{
 "cells": [
  {
   "cell_type": "markdown",
   "metadata": {},
   "source": [
    "# Data for TRAPPIST-1 system\n",
    "Source: Nature 2017"
   ]
  },
  {
   "cell_type": "code",
   "execution_count": 1,
   "metadata": {
    "collapsed": true,
    "deletable": true,
    "editable": true
   },
   "outputs": [],
   "source": [
    "import pandas as pd\n",
    "import yaml\n",
    "import numpy as np"
   ]
  },
  {
   "cell_type": "code",
   "execution_count": 2,
   "metadata": {
    "collapsed": false,
    "deletable": true,
    "editable": true
   },
   "outputs": [],
   "source": [
    "with open('bodies.yaml', 'r') as f:\n",
    "    raw_planet_data = yaml.load(f)"
   ]
  },
  {
   "cell_type": "code",
   "execution_count": 3,
   "metadata": {
    "collapsed": true,
    "deletable": true,
    "editable": true
   },
   "outputs": [],
   "source": [
    "earth = {'mass':5.972e24,   # in kg\n",
    "         'radius': 6.371e6  # in m\n",
    "        }\n",
    "sun = {'mass':1.989e30,     # in kg\n",
    "       'radius': 695.8e6    # in m\n",
    "      }\n",
    "\n",
    "conversions = {'meter2au': 1. / 149597870700}"
   ]
  },
  {
   "cell_type": "code",
   "execution_count": 4,
   "metadata": {
    "collapsed": false,
    "deletable": true,
    "editable": true
   },
   "outputs": [],
   "source": [
    "columns = ['name', 'mass', 'period', 'radius', 'semi-major', 'eccentricity']\n",
    "\n",
    "planet_data = pd.DataFrame(columns=columns)\n",
    "star_data = pd.DataFrame(columns=columns)\n",
    "\n",
    "for d in raw_planet_data.keys():\n",
    "    current_dict = raw_planet_data[d]\n",
    "    current_dict['name'] = d\n",
    "    for c in current_dict.keys():\n",
    "        if current_dict[c] == 'NA':\n",
    "            current_dict[c] = np.nan\n",
    "    if d == 'star':\n",
    "        pop_columns = [current_dict['name']] + \\\n",
    "            [float(x) for x in [current_dict['mass'], np.nan, \n",
    "                                current_dict['radius'],np.nan,np.nan]]\n",
    "        df = pd.DataFrame([pop_columns], columns=columns)\n",
    "        star_data = star_data.append(df)\n",
    "        continue\n",
    "    pop_columns = [current_dict['name']] + \\\n",
    "            [float(x) for x in [current_dict['mass'], current_dict['period'], \n",
    "                                 current_dict['radius'], current_dict['semi-major'], \n",
    "                                 current_dict['eccentricity']]]        \n",
    "    df = pd.DataFrame([pop_columns], columns=columns)\n",
    "    planet_data = planet_data.append(df, ignore_index=True)\n",
    "planet_data = planet_data.sort_values(\"semi-major\").reset_index(drop=True)"
   ]
  },
  {
   "cell_type": "markdown",
   "metadata": {},
   "source": [
    "Original planet data are:\n",
    "- **mass** in earth masses\n",
    "- **period** in earth days\n",
    "- **radius** in earth radii\n",
    "- **semi-major** in $10^{-3}$ au"
   ]
  },
  {
   "cell_type": "code",
   "execution_count": 5,
   "metadata": {
    "collapsed": false,
    "scrolled": false
   },
   "outputs": [
    {
     "data": {
      "text/html": [
       "<div>\n",
       "<table border=\"1\" class=\"dataframe\">\n",
       "  <thead>\n",
       "    <tr style=\"text-align: right;\">\n",
       "      <th></th>\n",
       "      <th>name</th>\n",
       "      <th>mass</th>\n",
       "      <th>period</th>\n",
       "      <th>radius</th>\n",
       "      <th>semi-major</th>\n",
       "      <th>eccentricity</th>\n",
       "    </tr>\n",
       "  </thead>\n",
       "  <tbody>\n",
       "    <tr>\n",
       "      <th>0</th>\n",
       "      <td>b</td>\n",
       "      <td>0.85</td>\n",
       "      <td>1.510871</td>\n",
       "      <td>1.086</td>\n",
       "      <td>11.11</td>\n",
       "      <td>0.081</td>\n",
       "    </tr>\n",
       "    <tr>\n",
       "      <th>1</th>\n",
       "      <td>c</td>\n",
       "      <td>1.38</td>\n",
       "      <td>2.421823</td>\n",
       "      <td>1.056</td>\n",
       "      <td>15.21</td>\n",
       "      <td>0.083</td>\n",
       "    </tr>\n",
       "    <tr>\n",
       "      <th>2</th>\n",
       "      <td>d</td>\n",
       "      <td>0.41</td>\n",
       "      <td>4.049610</td>\n",
       "      <td>0.772</td>\n",
       "      <td>21.44</td>\n",
       "      <td>0.070</td>\n",
       "    </tr>\n",
       "    <tr>\n",
       "      <th>3</th>\n",
       "      <td>e</td>\n",
       "      <td>0.62</td>\n",
       "      <td>6.099615</td>\n",
       "      <td>0.918</td>\n",
       "      <td>28.17</td>\n",
       "      <td>0.085</td>\n",
       "    </tr>\n",
       "    <tr>\n",
       "      <th>4</th>\n",
       "      <td>f</td>\n",
       "      <td>0.68</td>\n",
       "      <td>9.206690</td>\n",
       "      <td>1.045</td>\n",
       "      <td>37.10</td>\n",
       "      <td>0.063</td>\n",
       "    </tr>\n",
       "    <tr>\n",
       "      <th>5</th>\n",
       "      <td>g</td>\n",
       "      <td>1.34</td>\n",
       "      <td>12.352940</td>\n",
       "      <td>1.127</td>\n",
       "      <td>45.10</td>\n",
       "      <td>0.061</td>\n",
       "    </tr>\n",
       "    <tr>\n",
       "      <th>6</th>\n",
       "      <td>h</td>\n",
       "      <td>NaN</td>\n",
       "      <td>20.000000</td>\n",
       "      <td>0.755</td>\n",
       "      <td>63.00</td>\n",
       "      <td>NaN</td>\n",
       "    </tr>\n",
       "  </tbody>\n",
       "</table>\n",
       "</div>"
      ],
      "text/plain": [
       "  name  mass     period  radius  semi-major  eccentricity\n",
       "0    b  0.85   1.510871   1.086       11.11         0.081\n",
       "1    c  1.38   2.421823   1.056       15.21         0.083\n",
       "2    d  0.41   4.049610   0.772       21.44         0.070\n",
       "3    e  0.62   6.099615   0.918       28.17         0.085\n",
       "4    f  0.68   9.206690   1.045       37.10         0.063\n",
       "5    g  1.34  12.352940   1.127       45.10         0.061\n",
       "6    h   NaN  20.000000   0.755       63.00           NaN"
      ]
     },
     "execution_count": 5,
     "metadata": {},
     "output_type": "execute_result"
    }
   ],
   "source": [
    "planet_data"
   ]
  },
  {
   "cell_type": "markdown",
   "metadata": {},
   "source": [
    "Original star data are:\n",
    "- **mass** in sun masses\n",
    "- **radius** in sun radii"
   ]
  },
  {
   "cell_type": "code",
   "execution_count": 6,
   "metadata": {
    "collapsed": false
   },
   "outputs": [
    {
     "data": {
      "text/html": [
       "<div>\n",
       "<table border=\"1\" class=\"dataframe\">\n",
       "  <thead>\n",
       "    <tr style=\"text-align: right;\">\n",
       "      <th></th>\n",
       "      <th>name</th>\n",
       "      <th>mass</th>\n",
       "      <th>period</th>\n",
       "      <th>radius</th>\n",
       "      <th>semi-major</th>\n",
       "      <th>eccentricity</th>\n",
       "    </tr>\n",
       "  </thead>\n",
       "  <tbody>\n",
       "    <tr>\n",
       "      <th>0</th>\n",
       "      <td>star</td>\n",
       "      <td>0.0802</td>\n",
       "      <td>NaN</td>\n",
       "      <td>0.117</td>\n",
       "      <td>NaN</td>\n",
       "      <td>NaN</td>\n",
       "    </tr>\n",
       "  </tbody>\n",
       "</table>\n",
       "</div>"
      ],
      "text/plain": [
       "   name    mass  period  radius  semi-major  eccentricity\n",
       "0  star  0.0802     NaN   0.117         NaN           NaN"
      ]
     },
     "execution_count": 6,
     "metadata": {},
     "output_type": "execute_result"
    }
   ],
   "source": [
    "star_data"
   ]
  },
  {
   "cell_type": "markdown",
   "metadata": {},
   "source": [
    "## Convert to local units"
   ]
  },
  {
   "cell_type": "markdown",
   "metadata": {},
   "source": [
    "Using TRAPPIST units:\n",
    "- time: earth days\n",
    "- distance 1/1000 AU\n",
    "- mass: TRAPPIST-1 mass"
   ]
  },
  {
   "cell_type": "code",
   "execution_count": 7,
   "metadata": {
    "collapsed": false
   },
   "outputs": [
    {
     "data": {
      "text/plain": [
       "0.080199999999999994"
      ]
     },
     "execution_count": 7,
     "metadata": {},
     "output_type": "execute_result"
    }
   ],
   "source": [
    "star_data['mass'][0]"
   ]
  },
  {
   "cell_type": "code",
   "execution_count": 8,
   "metadata": {
    "collapsed": false
   },
   "outputs": [],
   "source": [
    "mass_star = star_data['mass'][0]  # in solar masses\n",
    "system = planet_data.copy()\n",
    "system['mass'] *= earth['mass']/sun['mass']\n",
    "system = system.append(star_data[star_data['name'] == 'star'], ignore_index=True)\n",
    "system['mass'] /= mass_star"
   ]
  },
  {
   "cell_type": "markdown",
   "metadata": {},
   "source": [
    "**Mass** is now in multiples of the star's mass; **radius** is still in earth radii for planets and sun radius for star. **Semi-major** in $10^{-3}$ au. **Period** in earth days."
   ]
  },
  {
   "cell_type": "code",
   "execution_count": 9,
   "metadata": {
    "collapsed": false
   },
   "outputs": [
    {
     "data": {
      "text/html": [
       "<div>\n",
       "<table border=\"1\" class=\"dataframe\">\n",
       "  <thead>\n",
       "    <tr style=\"text-align: right;\">\n",
       "      <th></th>\n",
       "      <th>name</th>\n",
       "      <th>mass</th>\n",
       "      <th>period</th>\n",
       "      <th>radius</th>\n",
       "      <th>semi-major</th>\n",
       "      <th>eccentricity</th>\n",
       "    </tr>\n",
       "  </thead>\n",
       "  <tbody>\n",
       "    <tr>\n",
       "      <th>0</th>\n",
       "      <td>b</td>\n",
       "      <td>0.000032</td>\n",
       "      <td>1.510871</td>\n",
       "      <td>1.086</td>\n",
       "      <td>11.11</td>\n",
       "      <td>0.081</td>\n",
       "    </tr>\n",
       "    <tr>\n",
       "      <th>1</th>\n",
       "      <td>c</td>\n",
       "      <td>0.000052</td>\n",
       "      <td>2.421823</td>\n",
       "      <td>1.056</td>\n",
       "      <td>15.21</td>\n",
       "      <td>0.083</td>\n",
       "    </tr>\n",
       "    <tr>\n",
       "      <th>2</th>\n",
       "      <td>d</td>\n",
       "      <td>0.000015</td>\n",
       "      <td>4.049610</td>\n",
       "      <td>0.772</td>\n",
       "      <td>21.44</td>\n",
       "      <td>0.070</td>\n",
       "    </tr>\n",
       "    <tr>\n",
       "      <th>3</th>\n",
       "      <td>e</td>\n",
       "      <td>0.000023</td>\n",
       "      <td>6.099615</td>\n",
       "      <td>0.918</td>\n",
       "      <td>28.17</td>\n",
       "      <td>0.085</td>\n",
       "    </tr>\n",
       "    <tr>\n",
       "      <th>4</th>\n",
       "      <td>f</td>\n",
       "      <td>0.000025</td>\n",
       "      <td>9.206690</td>\n",
       "      <td>1.045</td>\n",
       "      <td>37.10</td>\n",
       "      <td>0.063</td>\n",
       "    </tr>\n",
       "    <tr>\n",
       "      <th>5</th>\n",
       "      <td>g</td>\n",
       "      <td>0.000050</td>\n",
       "      <td>12.352940</td>\n",
       "      <td>1.127</td>\n",
       "      <td>45.10</td>\n",
       "      <td>0.061</td>\n",
       "    </tr>\n",
       "    <tr>\n",
       "      <th>6</th>\n",
       "      <td>h</td>\n",
       "      <td>NaN</td>\n",
       "      <td>20.000000</td>\n",
       "      <td>0.755</td>\n",
       "      <td>63.00</td>\n",
       "      <td>NaN</td>\n",
       "    </tr>\n",
       "    <tr>\n",
       "      <th>7</th>\n",
       "      <td>star</td>\n",
       "      <td>1.000000</td>\n",
       "      <td>NaN</td>\n",
       "      <td>0.117</td>\n",
       "      <td>NaN</td>\n",
       "      <td>NaN</td>\n",
       "    </tr>\n",
       "  </tbody>\n",
       "</table>\n",
       "</div>"
      ],
      "text/plain": [
       "   name      mass     period  radius  semi-major  eccentricity\n",
       "0     b  0.000032   1.510871   1.086       11.11         0.081\n",
       "1     c  0.000052   2.421823   1.056       15.21         0.083\n",
       "2     d  0.000015   4.049610   0.772       21.44         0.070\n",
       "3     e  0.000023   6.099615   0.918       28.17         0.085\n",
       "4     f  0.000025   9.206690   1.045       37.10         0.063\n",
       "5     g  0.000050  12.352940   1.127       45.10         0.061\n",
       "6     h       NaN  20.000000   0.755       63.00           NaN\n",
       "7  star  1.000000        NaN   0.117         NaN           NaN"
      ]
     },
     "execution_count": 9,
     "metadata": {},
     "output_type": "execute_result"
    }
   ],
   "source": [
    "system"
   ]
  },
  {
   "cell_type": "code",
   "execution_count": 10,
   "metadata": {
    "collapsed": false
   },
   "outputs": [],
   "source": [
    "system.to_hdf(\"trappist_bodies.hdf5\", \"LOCAL_UNITS\")"
   ]
  },
  {
   "cell_type": "markdown",
   "metadata": {},
   "source": [
    "## Convert to solar system units:"
   ]
  },
  {
   "cell_type": "code",
   "execution_count": 11,
   "metadata": {
    "collapsed": false,
    "deletable": true,
    "editable": true
   },
   "outputs": [],
   "source": [
    "bodies = planet_data.copy()\n",
    "bodies['mass'] *= earth['mass']/sun['mass'] # in M_s\n",
    "bodies['radius'] *= earth['radius'] * conversions['meter2au'] # in AU\n",
    "bodies['semi-major'] *= 1e-3 # in AU\n",
    "bodies['period'] /= 365.242 # in solar years\n",
    "\n",
    "star_only = star_data[star_data['name'] == 'star'].copy()\n",
    "star_only['radius'] *= sun['radius'] * conversions['meter2au'] # in AU\n",
    "bodies = bodies.append(star_only, ignore_index=True)"
   ]
  },
  {
   "cell_type": "markdown",
   "metadata": {},
   "source": [
    "**Mass** in solar masses, **period** in years, **radius** in au, **semi-major** in au."
   ]
  },
  {
   "cell_type": "code",
   "execution_count": 12,
   "metadata": {
    "collapsed": false,
    "deletable": true,
    "editable": true
   },
   "outputs": [
    {
     "data": {
      "text/html": [
       "<div>\n",
       "<table border=\"1\" class=\"dataframe\">\n",
       "  <thead>\n",
       "    <tr style=\"text-align: right;\">\n",
       "      <th></th>\n",
       "      <th>name</th>\n",
       "      <th>mass</th>\n",
       "      <th>period</th>\n",
       "      <th>radius</th>\n",
       "      <th>semi-major</th>\n",
       "      <th>eccentricity</th>\n",
       "    </tr>\n",
       "  </thead>\n",
       "  <tbody>\n",
       "    <tr>\n",
       "      <th>0</th>\n",
       "      <td>b</td>\n",
       "      <td>0.000003</td>\n",
       "      <td>0.004137</td>\n",
       "      <td>0.000046</td>\n",
       "      <td>0.01111</td>\n",
       "      <td>0.081</td>\n",
       "    </tr>\n",
       "    <tr>\n",
       "      <th>1</th>\n",
       "      <td>c</td>\n",
       "      <td>0.000004</td>\n",
       "      <td>0.006631</td>\n",
       "      <td>0.000045</td>\n",
       "      <td>0.01521</td>\n",
       "      <td>0.083</td>\n",
       "    </tr>\n",
       "    <tr>\n",
       "      <th>2</th>\n",
       "      <td>d</td>\n",
       "      <td>0.000001</td>\n",
       "      <td>0.011087</td>\n",
       "      <td>0.000033</td>\n",
       "      <td>0.02144</td>\n",
       "      <td>0.070</td>\n",
       "    </tr>\n",
       "    <tr>\n",
       "      <th>3</th>\n",
       "      <td>e</td>\n",
       "      <td>0.000002</td>\n",
       "      <td>0.016700</td>\n",
       "      <td>0.000039</td>\n",
       "      <td>0.02817</td>\n",
       "      <td>0.085</td>\n",
       "    </tr>\n",
       "    <tr>\n",
       "      <th>4</th>\n",
       "      <td>f</td>\n",
       "      <td>0.000002</td>\n",
       "      <td>0.025207</td>\n",
       "      <td>0.000045</td>\n",
       "      <td>0.03710</td>\n",
       "      <td>0.063</td>\n",
       "    </tr>\n",
       "    <tr>\n",
       "      <th>5</th>\n",
       "      <td>g</td>\n",
       "      <td>0.000004</td>\n",
       "      <td>0.033821</td>\n",
       "      <td>0.000048</td>\n",
       "      <td>0.04510</td>\n",
       "      <td>0.061</td>\n",
       "    </tr>\n",
       "    <tr>\n",
       "      <th>6</th>\n",
       "      <td>h</td>\n",
       "      <td>NaN</td>\n",
       "      <td>0.054758</td>\n",
       "      <td>0.000032</td>\n",
       "      <td>0.06300</td>\n",
       "      <td>NaN</td>\n",
       "    </tr>\n",
       "    <tr>\n",
       "      <th>7</th>\n",
       "      <td>star</td>\n",
       "      <td>0.080200</td>\n",
       "      <td>NaN</td>\n",
       "      <td>0.000544</td>\n",
       "      <td>NaN</td>\n",
       "      <td>NaN</td>\n",
       "    </tr>\n",
       "  </tbody>\n",
       "</table>\n",
       "</div>"
      ],
      "text/plain": [
       "   name      mass    period    radius  semi-major  eccentricity\n",
       "0     b  0.000003  0.004137  0.000046     0.01111         0.081\n",
       "1     c  0.000004  0.006631  0.000045     0.01521         0.083\n",
       "2     d  0.000001  0.011087  0.000033     0.02144         0.070\n",
       "3     e  0.000002  0.016700  0.000039     0.02817         0.085\n",
       "4     f  0.000002  0.025207  0.000045     0.03710         0.063\n",
       "5     g  0.000004  0.033821  0.000048     0.04510         0.061\n",
       "6     h       NaN  0.054758  0.000032     0.06300           NaN\n",
       "7  star  0.080200       NaN  0.000544         NaN           NaN"
      ]
     },
     "execution_count": 12,
     "metadata": {},
     "output_type": "execute_result"
    }
   ],
   "source": [
    "bodies"
   ]
  },
  {
   "cell_type": "code",
   "execution_count": 13,
   "metadata": {
    "collapsed": false
   },
   "outputs": [],
   "source": [
    "bodies.to_hdf(\"trappist_bodies.hdf5\", \"SOLAR_UNITS\")"
   ]
  },
  {
   "cell_type": "code",
   "execution_count": null,
   "metadata": {
    "collapsed": true
   },
   "outputs": [],
   "source": []
  }
 ],
 "metadata": {
  "anaconda-cloud": {},
  "kernelspec": {
   "display_name": "Python [conda root]",
   "language": "python",
   "name": "conda-root-py"
  },
  "language_info": {
   "codemirror_mode": {
    "name": "ipython",
    "version": 3
   },
   "file_extension": ".py",
   "mimetype": "text/x-python",
   "name": "python",
   "nbconvert_exporter": "python",
   "pygments_lexer": "ipython3",
   "version": "3.5.2"
  }
 },
 "nbformat": 4,
 "nbformat_minor": 2
}
