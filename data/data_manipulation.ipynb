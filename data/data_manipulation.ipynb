{
 "cells": [
  {
   "cell_type": "code",
   "execution_count": 101,
   "metadata": {
    "collapsed": true,
    "deletable": true,
    "editable": true
   },
   "outputs": [],
   "source": [
    "import pandas as pd\n",
    "import yaml\n",
    "import numpy as np"
   ]
  },
  {
   "cell_type": "code",
   "execution_count": 102,
   "metadata": {
    "collapsed": false,
    "deletable": true,
    "editable": true
   },
   "outputs": [],
   "source": [
    "with open('bodies.yaml', 'r') as f:\n",
    "    raw_planet_data = yaml.load(f)"
   ]
  },
  {
   "cell_type": "code",
   "execution_count": 103,
   "metadata": {
    "collapsed": true,
    "deletable": true,
    "editable": true
   },
   "outputs": [],
   "source": [
    "earth = {'mass':5.972e24,\n",
    "         'radius': 6.371e6\n",
    "        }\n",
    "sun = {'mass':1.989e30,\n",
    "       'radius': 695.8e6\n",
    "      }"
   ]
  },
  {
   "cell_type": "code",
   "execution_count": 104,
   "metadata": {
    "collapsed": false,
    "deletable": true,
    "editable": true
   },
   "outputs": [],
   "source": [
    "columns = ['mass', 'period', 'radius', 'semi-major', 'eccentricity']\n",
    "\n",
    "planet_data = pd.DataFrame(columns=columns)\n",
    "star_data = pd.DataFrame(columns=columns)\n",
    "\n",
    "for d in raw_planet_data.keys():\n",
    "    current_dict = raw_planet_data[d]\n",
    "    for c in current_dict.keys():\n",
    "        if current_dict[c] == 'NA':\n",
    "            current_dict[c] = np.nan\n",
    "    if d == 'sun':\n",
    "        pop_columns = [[float(x) for x in [ current_dict['mass'], np.nan, current_dict['radius'],np.nan,np.nan]]]\n",
    "        df = pd.DataFrame(pop_columns,columns=columns)\n",
    "        star_data = star_data.append(df)\n",
    "        continue\n",
    "    pop_columns = [[float(x) for x in [ current_dict['mass'], current_dict['period'], current_dict['radius'], current_dict['semi-major'], current_dict['eccentricity']]]]        \n",
    "    df = pd.DataFrame(pop_columns,columns=columns)\n",
    "    planet_data = planet_data.append(df, ignore_index=True)"
   ]
  },
  {
   "cell_type": "code",
   "execution_count": 105,
   "metadata": {
    "collapsed": false,
    "deletable": true,
    "editable": true
   },
   "outputs": [],
   "source": [
    "planet_data['mass'] *= earth['mass']\n",
    "planet_data['radius'] *= earth['radius']\n",
    "planet_data['semi-major'] *= (10e-3 * 1.496e11)\n",
    "planet_data['period'] *= 24*60*60\n",
    "\n",
    "star_data['mass'] *= sun['mass']\n",
    "star_data['radius'] *= sun['radius']"
   ]
  },
  {
   "cell_type": "code",
   "execution_count": 106,
   "metadata": {
    "collapsed": false,
    "deletable": true,
    "editable": true
   },
   "outputs": [
    {
     "data": {
      "text/html": [
       "<div>\n",
       "<table border=\"1\" class=\"dataframe\">\n",
       "  <thead>\n",
       "    <tr style=\"text-align: right;\">\n",
       "      <th></th>\n",
       "      <th>0</th>\n",
       "      <th>1</th>\n",
       "      <th>2</th>\n",
       "      <th>3</th>\n",
       "      <th>4</th>\n",
       "      <th>5</th>\n",
       "      <th>6</th>\n",
       "      <th>star</th>\n",
       "    </tr>\n",
       "  </thead>\n",
       "  <tbody>\n",
       "    <tr>\n",
       "      <th>mass</th>\n",
       "      <td>8.241360e+24</td>\n",
       "      <td>5.076200e+24</td>\n",
       "      <td>8.002480e+24</td>\n",
       "      <td>3.702640e+24</td>\n",
       "      <td>4.060960e+24</td>\n",
       "      <td>NaN</td>\n",
       "      <td>2.448520e+24</td>\n",
       "      <td>1.595178e+29</td>\n",
       "    </tr>\n",
       "    <tr>\n",
       "      <th>period</th>\n",
       "      <td>2.092455e+05</td>\n",
       "      <td>1.305392e+05</td>\n",
       "      <td>1.067294e+06</td>\n",
       "      <td>5.270067e+05</td>\n",
       "      <td>7.954580e+05</td>\n",
       "      <td>1.728000e+06</td>\n",
       "      <td>3.498863e+05</td>\n",
       "      <td>NaN</td>\n",
       "    </tr>\n",
       "    <tr>\n",
       "      <th>radius</th>\n",
       "      <td>6.727776e+06</td>\n",
       "      <td>6.918906e+06</td>\n",
       "      <td>7.180117e+06</td>\n",
       "      <td>5.848578e+06</td>\n",
       "      <td>6.657695e+06</td>\n",
       "      <td>4.810105e+06</td>\n",
       "      <td>4.918412e+06</td>\n",
       "      <td>8.140860e+07</td>\n",
       "    </tr>\n",
       "    <tr>\n",
       "      <th>semi-major</th>\n",
       "      <td>2.275416e+10</td>\n",
       "      <td>1.662056e+10</td>\n",
       "      <td>6.746960e+10</td>\n",
       "      <td>4.214232e+10</td>\n",
       "      <td>5.550160e+10</td>\n",
       "      <td>9.424800e+10</td>\n",
       "      <td>3.207424e+10</td>\n",
       "      <td>NaN</td>\n",
       "    </tr>\n",
       "    <tr>\n",
       "      <th>eccentricity</th>\n",
       "      <td>8.300000e-02</td>\n",
       "      <td>8.100000e-02</td>\n",
       "      <td>6.100000e-02</td>\n",
       "      <td>8.500000e-02</td>\n",
       "      <td>6.300000e-02</td>\n",
       "      <td>NaN</td>\n",
       "      <td>7.000000e-02</td>\n",
       "      <td>NaN</td>\n",
       "    </tr>\n",
       "  </tbody>\n",
       "</table>\n",
       "</div>"
      ],
      "text/plain": [
       "                         0             1             2             3  \\\n",
       "mass          8.241360e+24  5.076200e+24  8.002480e+24  3.702640e+24   \n",
       "period        2.092455e+05  1.305392e+05  1.067294e+06  5.270067e+05   \n",
       "radius        6.727776e+06  6.918906e+06  7.180117e+06  5.848578e+06   \n",
       "semi-major    2.275416e+10  1.662056e+10  6.746960e+10  4.214232e+10   \n",
       "eccentricity  8.300000e-02  8.100000e-02  6.100000e-02  8.500000e-02   \n",
       "\n",
       "                         4             5             6          star  \n",
       "mass          4.060960e+24           NaN  2.448520e+24  1.595178e+29  \n",
       "period        7.954580e+05  1.728000e+06  3.498863e+05           NaN  \n",
       "radius        6.657695e+06  4.810105e+06  4.918412e+06  8.140860e+07  \n",
       "semi-major    5.550160e+10  9.424800e+10  3.207424e+10           NaN  \n",
       "eccentricity  6.300000e-02           NaN  7.000000e-02           NaN  "
      ]
     },
     "execution_count": 106,
     "metadata": {},
     "output_type": "execute_result"
    }
   ],
   "source": [
    "bodies = planet_data.T\n",
    "bodies['star'] = star_data.T[0]\n",
    "bodies"
   ]
  },
  {
   "cell_type": "code",
   "execution_count": null,
   "metadata": {
    "collapsed": true,
    "deletable": true,
    "editable": true
   },
   "outputs": [],
   "source": []
  }
 ],
 "metadata": {
  "kernelspec": {
   "display_name": "Python 3",
   "language": "python",
   "name": "python3"
  },
  "language_info": {
   "codemirror_mode": {
    "name": "ipython",
    "version": 3
   },
   "file_extension": ".py",
   "mimetype": "text/x-python",
   "name": "python",
   "nbconvert_exporter": "python",
   "pygments_lexer": "ipython3",
   "version": "3.5.2"
  }
 },
 "nbformat": 4,
 "nbformat_minor": 2
}
