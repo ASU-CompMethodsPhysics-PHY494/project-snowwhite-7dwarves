{
 "cells": [
  {
   "cell_type": "code",
   "execution_count": 1,
   "metadata": {
    "collapsed": true,
    "deletable": true,
    "editable": true
   },
   "outputs": [],
   "source": [
    "import pandas as pd\n",
    "import yaml\n",
    "import numpy as np"
   ]
  },
  {
   "cell_type": "code",
   "execution_count": 2,
   "metadata": {
    "collapsed": false,
    "deletable": true,
    "editable": true
   },
   "outputs": [],
   "source": [
    "with open('bodies.yaml', 'r') as f:\n",
    "    raw_planet_data = yaml.load(f)"
   ]
  },
  {
   "cell_type": "code",
   "execution_count": 3,
   "metadata": {
    "collapsed": true,
    "deletable": true,
    "editable": true
   },
   "outputs": [],
   "source": [
    "earth = {'mass':5.972e24,\n",
    "         'radius': 6.371e6\n",
    "        }\n",
    "sun = {'mass':1.989e30,\n",
    "       'radius': 695.8e6\n",
    "      }\n",
    "\n",
    "conversions = {'meter2au': 6.68459e-12}"
   ]
  },
  {
   "cell_type": "code",
   "execution_count": 4,
   "metadata": {
    "collapsed": false,
    "deletable": true,
    "editable": true
   },
   "outputs": [],
   "source": [
    "columns = ['mass', 'period', 'radius', 'semi-major', 'eccentricity']\n",
    "\n",
    "planet_data = pd.DataFrame(columns=columns)\n",
    "star_data = pd.DataFrame(columns=columns)\n",
    "\n",
    "for d in raw_planet_data.keys():\n",
    "    current_dict = raw_planet_data[d]\n",
    "    for c in current_dict.keys():\n",
    "        if current_dict[c] == 'NA':\n",
    "            current_dict[c] = np.nan\n",
    "    if d == 'sun':\n",
    "        pop_columns = [[float(x) for x in [ current_dict['mass'], np.nan, current_dict['radius'],np.nan,np.nan]]]\n",
    "        df = pd.DataFrame(pop_columns,columns=columns)\n",
    "        star_data = star_data.append(df)\n",
    "        continue\n",
    "    pop_columns = [[float(x) for x in [ current_dict['mass'], current_dict['period'], current_dict['radius'], current_dict['semi-major'], current_dict['eccentricity']]]]        \n",
    "    df = pd.DataFrame(pop_columns,columns=columns)\n",
    "    planet_data = planet_data.append(df, ignore_index=True)"
   ]
  },
  {
   "cell_type": "code",
   "execution_count": 5,
   "metadata": {
    "collapsed": false,
    "deletable": true,
    "editable": true
   },
   "outputs": [],
   "source": [
    "planet_data['mass'] *= earth['mass']/sun['mass'] # in M_s\n",
    "planet_data['radius'] *= earth['radius'] * conversions['meter2au'] # in AU\n",
    "planet_data['semi-major'] *= 10e-3 # in AU\n",
    "planet_data['period'] /= 365.242 # in solar years\n",
    "\n",
    "star_data['radius'] *= sun['radius'] * conversions['meter2au'] # in AU"
   ]
  },
  {
   "cell_type": "code",
   "execution_count": 6,
   "metadata": {
    "collapsed": false,
    "deletable": true,
    "editable": true
   },
   "outputs": [
    {
     "data": {
      "text/html": [
       "<div>\n",
       "<table border=\"1\" class=\"dataframe\">\n",
       "  <thead>\n",
       "    <tr style=\"text-align: right;\">\n",
       "      <th></th>\n",
       "      <th>0</th>\n",
       "      <th>1</th>\n",
       "      <th>2</th>\n",
       "      <th>3</th>\n",
       "      <th>4</th>\n",
       "      <th>5</th>\n",
       "      <th>6</th>\n",
       "      <th>star</th>\n",
       "    </tr>\n",
       "  </thead>\n",
       "  <tbody>\n",
       "    <tr>\n",
       "      <th>mass</th>\n",
       "      <td>0.000004</td>\n",
       "      <td>0.000003</td>\n",
       "      <td>0.000002</td>\n",
       "      <td>0.000001</td>\n",
       "      <td>0.000004</td>\n",
       "      <td>0.000002</td>\n",
       "      <td>NaN</td>\n",
       "      <td>0.080200</td>\n",
       "    </tr>\n",
       "    <tr>\n",
       "      <th>period</th>\n",
       "      <td>0.006631</td>\n",
       "      <td>0.004137</td>\n",
       "      <td>0.016700</td>\n",
       "      <td>0.011087</td>\n",
       "      <td>0.033821</td>\n",
       "      <td>0.025207</td>\n",
       "      <td>0.054758</td>\n",
       "      <td>NaN</td>\n",
       "    </tr>\n",
       "    <tr>\n",
       "      <th>radius</th>\n",
       "      <td>0.000045</td>\n",
       "      <td>0.000046</td>\n",
       "      <td>0.000039</td>\n",
       "      <td>0.000033</td>\n",
       "      <td>0.000048</td>\n",
       "      <td>0.000045</td>\n",
       "      <td>0.000032</td>\n",
       "      <td>0.000544</td>\n",
       "    </tr>\n",
       "    <tr>\n",
       "      <th>semi-major</th>\n",
       "      <td>0.152100</td>\n",
       "      <td>0.111100</td>\n",
       "      <td>0.281700</td>\n",
       "      <td>0.214400</td>\n",
       "      <td>0.451000</td>\n",
       "      <td>0.371000</td>\n",
       "      <td>0.630000</td>\n",
       "      <td>NaN</td>\n",
       "    </tr>\n",
       "    <tr>\n",
       "      <th>eccentricity</th>\n",
       "      <td>0.083000</td>\n",
       "      <td>0.081000</td>\n",
       "      <td>0.085000</td>\n",
       "      <td>0.070000</td>\n",
       "      <td>0.061000</td>\n",
       "      <td>0.063000</td>\n",
       "      <td>NaN</td>\n",
       "      <td>NaN</td>\n",
       "    </tr>\n",
       "  </tbody>\n",
       "</table>\n",
       "</div>"
      ],
      "text/plain": [
       "                     0         1         2         3         4         5  \\\n",
       "mass          0.000004  0.000003  0.000002  0.000001  0.000004  0.000002   \n",
       "period        0.006631  0.004137  0.016700  0.011087  0.033821  0.025207   \n",
       "radius        0.000045  0.000046  0.000039  0.000033  0.000048  0.000045   \n",
       "semi-major    0.152100  0.111100  0.281700  0.214400  0.451000  0.371000   \n",
       "eccentricity  0.083000  0.081000  0.085000  0.070000  0.061000  0.063000   \n",
       "\n",
       "                     6      star  \n",
       "mass               NaN  0.080200  \n",
       "period        0.054758       NaN  \n",
       "radius        0.000032  0.000544  \n",
       "semi-major    0.630000       NaN  \n",
       "eccentricity       NaN       NaN  "
      ]
     },
     "execution_count": 6,
     "metadata": {},
     "output_type": "execute_result"
    }
   ],
   "source": [
    "bodies = planet_data.T\n",
    "bodies['star'] = star_data.T[0]\n",
    "bodies"
   ]
  },
  {
   "cell_type": "code",
   "execution_count": null,
   "metadata": {
    "collapsed": true,
    "deletable": true,
    "editable": true
   },
   "outputs": [],
   "source": []
  }
 ],
 "metadata": {
  "kernelspec": {
   "display_name": "Python 2",
   "language": "python",
   "name": "python2"
  },
  "language_info": {
   "codemirror_mode": {
    "name": "ipython",
    "version": 2
   },
   "file_extension": ".py",
   "mimetype": "text/x-python",
   "name": "python",
   "nbconvert_exporter": "python",
   "pygments_lexer": "ipython2",
   "version": "2.7.12"
  }
 },
 "nbformat": 4,
 "nbformat_minor": 2
}
