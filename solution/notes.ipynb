{
 "cells": [
  {
   "cell_type": "markdown",
   "metadata": {},
   "source": [
    "# Notes\n",
    "\n",
    "\n",
    "## Resources\n",
    "The [HORIZONS](http://ssd.jpl.nasa.gov/?horizons) system contains data on *many* objects in the solar system."
   ]
  },
  {
   "cell_type": "markdown",
   "metadata": {},
   "source": [
    "Elongation angle\n",
    "* [Elongation angle](https://en.wikipedia.org/wiki/Elongation_(astronomy))\n",
    "* [Elongations and Configurations](http://astro.unl.edu/naap/ssm/modeling2.html) (part of [Solar Systems Models](http://astro.unl.edu/naap/ssm/ssm.html) at University of Lincoln, Nebraska)\n"
   ]
  },
  {
   "cell_type": "code",
   "execution_count": null,
   "metadata": {
    "collapsed": true
   },
   "outputs": [],
   "source": []
  }
 ],
 "metadata": {
  "kernelspec": {
   "display_name": "Python [conda root]",
   "language": "python",
   "name": "conda-root-py"
  },
  "language_info": {
   "codemirror_mode": {
    "name": "ipython",
    "version": 3
   },
   "file_extension": ".py",
   "mimetype": "text/x-python",
   "name": "python",
   "nbconvert_exporter": "python",
   "pygments_lexer": "ipython3",
   "version": "3.5.2"
  }
 },
 "nbformat": 4,
 "nbformat_minor": 1
}
