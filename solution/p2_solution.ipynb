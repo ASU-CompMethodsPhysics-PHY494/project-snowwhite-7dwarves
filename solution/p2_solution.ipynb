{
 "cells": [
  {
   "cell_type": "markdown",
   "metadata": {
    "collapsed": true
   },
   "source": [
    "# Project 2: Planets around TRAPPIST-1 "
   ]
  },
  {
   "cell_type": "markdown",
   "metadata": {},
   "source": [
    "## Goal and Objectives\n",
    "\n",
    "Simulate the movements of planets near the star TRAPPIST-1\n",
    "\n",
    "1. Simulate movement of the 6 closest planets (b, c, d, e, f, g) for 1000 earth days\n",
    "2. From which planets can an observer see the most other planets so close that one could resolve features of size 1000 km by naked eye?\n",
    "\n",
    "The Space Tourism Bureau suggests TRAPPIST-1e (see poster below). Are they right?"
   ]
  },
  {
   "cell_type": "markdown",
   "metadata": {},
   "source": [
    "![Planet Hop from TRAPPIST-1e. Voted best \"Hab Zone\" vacation within 12 parsecs of Earth](https://exoplanets.nasa.gov/system/resources/detail_files/2159_posternormalsize.jpg)\n",
    "(From [NASA Exoplanet Exploration: Galleries: TRAPPIST-1](https://exoplanets.nasa.gov/resources/2159/?linkId=34784370).)"
   ]
  },
  {
   "cell_type": "markdown",
   "metadata": {},
   "source": [
    "## Data "
   ]
  },
  {
   "cell_type": "markdown",
   "metadata": {},
   "source": [
    "Use pandas during development. Replace with something simpler for project."
   ]
  },
  {
   "cell_type": "code",
   "execution_count": 1,
   "metadata": {
    "collapsed": true
   },
   "outputs": [],
   "source": [
    "import pandas as pd"
   ]
  },
  {
   "cell_type": "code",
   "execution_count": 2,
   "metadata": {
    "collapsed": false
   },
   "outputs": [],
   "source": [
    "system = pd.read_hdf(\"../data/trappist_bodies.hdf5\", \"LOCAL_UNITS\")\n",
    "system.sort_values('name', inplace=True)"
   ]
  },
  {
   "cell_type": "code",
   "execution_count": 3,
   "metadata": {
    "collapsed": false
   },
   "outputs": [
    {
     "data": {
      "text/html": [
       "<div>\n",
       "<table border=\"1\" class=\"dataframe\">\n",
       "  <thead>\n",
       "    <tr style=\"text-align: right;\">\n",
       "      <th></th>\n",
       "      <th>name</th>\n",
       "      <th>mass</th>\n",
       "      <th>period</th>\n",
       "      <th>radius</th>\n",
       "      <th>semi-major</th>\n",
       "      <th>eccentricity</th>\n",
       "    </tr>\n",
       "  </thead>\n",
       "  <tbody>\n",
       "    <tr>\n",
       "      <th>0</th>\n",
       "      <td>b</td>\n",
       "      <td>0.000032</td>\n",
       "      <td>1.510871</td>\n",
       "      <td>1.086</td>\n",
       "      <td>11.11</td>\n",
       "      <td>0.081</td>\n",
       "    </tr>\n",
       "    <tr>\n",
       "      <th>1</th>\n",
       "      <td>c</td>\n",
       "      <td>0.000052</td>\n",
       "      <td>2.421823</td>\n",
       "      <td>1.056</td>\n",
       "      <td>15.21</td>\n",
       "      <td>0.083</td>\n",
       "    </tr>\n",
       "    <tr>\n",
       "      <th>2</th>\n",
       "      <td>d</td>\n",
       "      <td>0.000015</td>\n",
       "      <td>4.049610</td>\n",
       "      <td>0.772</td>\n",
       "      <td>21.44</td>\n",
       "      <td>0.070</td>\n",
       "    </tr>\n",
       "    <tr>\n",
       "      <th>3</th>\n",
       "      <td>e</td>\n",
       "      <td>0.000023</td>\n",
       "      <td>6.099615</td>\n",
       "      <td>0.918</td>\n",
       "      <td>28.17</td>\n",
       "      <td>0.085</td>\n",
       "    </tr>\n",
       "    <tr>\n",
       "      <th>4</th>\n",
       "      <td>f</td>\n",
       "      <td>0.000025</td>\n",
       "      <td>9.206690</td>\n",
       "      <td>1.045</td>\n",
       "      <td>37.10</td>\n",
       "      <td>0.063</td>\n",
       "    </tr>\n",
       "    <tr>\n",
       "      <th>5</th>\n",
       "      <td>g</td>\n",
       "      <td>0.000050</td>\n",
       "      <td>12.352940</td>\n",
       "      <td>1.127</td>\n",
       "      <td>45.10</td>\n",
       "      <td>0.061</td>\n",
       "    </tr>\n",
       "    <tr>\n",
       "      <th>6</th>\n",
       "      <td>h</td>\n",
       "      <td>NaN</td>\n",
       "      <td>20.000000</td>\n",
       "      <td>0.755</td>\n",
       "      <td>63.00</td>\n",
       "      <td>NaN</td>\n",
       "    </tr>\n",
       "    <tr>\n",
       "      <th>7</th>\n",
       "      <td>star</td>\n",
       "      <td>1.000000</td>\n",
       "      <td>NaN</td>\n",
       "      <td>0.117</td>\n",
       "      <td>NaN</td>\n",
       "      <td>NaN</td>\n",
       "    </tr>\n",
       "  </tbody>\n",
       "</table>\n",
       "</div>"
      ],
      "text/plain": [
       "   name      mass     period  radius  semi-major  eccentricity\n",
       "0     b  0.000032   1.510871   1.086       11.11         0.081\n",
       "1     c  0.000052   2.421823   1.056       15.21         0.083\n",
       "2     d  0.000015   4.049610   0.772       21.44         0.070\n",
       "3     e  0.000023   6.099615   0.918       28.17         0.085\n",
       "4     f  0.000025   9.206690   1.045       37.10         0.063\n",
       "5     g  0.000050  12.352940   1.127       45.10         0.061\n",
       "6     h       NaN  20.000000   0.755       63.00           NaN\n",
       "7  star  1.000000        NaN   0.117         NaN           NaN"
      ]
     },
     "execution_count": 3,
     "metadata": {},
     "output_type": "execute_result"
    }
   ],
   "source": [
    "system"
   ]
  },
  {
   "cell_type": "code",
   "execution_count": 4,
   "metadata": {
    "collapsed": false
   },
   "outputs": [],
   "source": [
    "planets = system[system['name'] != \"star\"]\n",
    "planets = planets.dropna()\n",
    "star = system[system['name'] == \"star\"]\n",
    "M_star = star['mass'].iloc[0]  \n",
    "\n",
    "assert M_star == 1.0"
   ]
  },
  {
   "cell_type": "code",
   "execution_count": 5,
   "metadata": {
    "collapsed": false,
    "scrolled": true
   },
   "outputs": [
    {
     "name": "stdout",
     "output_type": "stream",
     "text": [
      "0.0802\n"
     ]
    }
   ],
   "source": [
    "system_AU = pd.read_hdf(\"../data/trappist_bodies.hdf5\", \"SOLAR_UNITS\")\n",
    "M_star_in_solar_mass = system_AU[system_AU['name'] == \"star\"]['mass'].item()\n",
    "print(M_star_in_solar_mass)"
   ]
  },
  {
   "cell_type": "code",
   "execution_count": 6,
   "metadata": {
    "collapsed": false
   },
   "outputs": [
    {
     "data": {
      "text/html": [
       "<div>\n",
       "<table border=\"1\" class=\"dataframe\">\n",
       "  <thead>\n",
       "    <tr style=\"text-align: right;\">\n",
       "      <th></th>\n",
       "      <th>name</th>\n",
       "      <th>mass</th>\n",
       "      <th>period</th>\n",
       "      <th>radius</th>\n",
       "      <th>semi-major</th>\n",
       "      <th>eccentricity</th>\n",
       "    </tr>\n",
       "  </thead>\n",
       "  <tbody>\n",
       "    <tr>\n",
       "      <th>0</th>\n",
       "      <td>b</td>\n",
       "      <td>0.000003</td>\n",
       "      <td>0.004137</td>\n",
       "      <td>0.000046</td>\n",
       "      <td>0.01111</td>\n",
       "      <td>0.081</td>\n",
       "    </tr>\n",
       "    <tr>\n",
       "      <th>1</th>\n",
       "      <td>c</td>\n",
       "      <td>0.000004</td>\n",
       "      <td>0.006631</td>\n",
       "      <td>0.000045</td>\n",
       "      <td>0.01521</td>\n",
       "      <td>0.083</td>\n",
       "    </tr>\n",
       "    <tr>\n",
       "      <th>2</th>\n",
       "      <td>d</td>\n",
       "      <td>0.000001</td>\n",
       "      <td>0.011087</td>\n",
       "      <td>0.000033</td>\n",
       "      <td>0.02144</td>\n",
       "      <td>0.070</td>\n",
       "    </tr>\n",
       "    <tr>\n",
       "      <th>3</th>\n",
       "      <td>e</td>\n",
       "      <td>0.000002</td>\n",
       "      <td>0.016700</td>\n",
       "      <td>0.000039</td>\n",
       "      <td>0.02817</td>\n",
       "      <td>0.085</td>\n",
       "    </tr>\n",
       "    <tr>\n",
       "      <th>4</th>\n",
       "      <td>f</td>\n",
       "      <td>0.000002</td>\n",
       "      <td>0.025207</td>\n",
       "      <td>0.000045</td>\n",
       "      <td>0.03710</td>\n",
       "      <td>0.063</td>\n",
       "    </tr>\n",
       "    <tr>\n",
       "      <th>5</th>\n",
       "      <td>g</td>\n",
       "      <td>0.000004</td>\n",
       "      <td>0.033821</td>\n",
       "      <td>0.000048</td>\n",
       "      <td>0.04510</td>\n",
       "      <td>0.061</td>\n",
       "    </tr>\n",
       "    <tr>\n",
       "      <th>6</th>\n",
       "      <td>h</td>\n",
       "      <td>NaN</td>\n",
       "      <td>0.054758</td>\n",
       "      <td>0.000032</td>\n",
       "      <td>0.06300</td>\n",
       "      <td>NaN</td>\n",
       "    </tr>\n",
       "    <tr>\n",
       "      <th>7</th>\n",
       "      <td>star</td>\n",
       "      <td>0.080200</td>\n",
       "      <td>NaN</td>\n",
       "      <td>0.000544</td>\n",
       "      <td>NaN</td>\n",
       "      <td>NaN</td>\n",
       "    </tr>\n",
       "  </tbody>\n",
       "</table>\n",
       "</div>"
      ],
      "text/plain": [
       "   name      mass    period    radius  semi-major  eccentricity\n",
       "0     b  0.000003  0.004137  0.000046     0.01111         0.081\n",
       "1     c  0.000004  0.006631  0.000045     0.01521         0.083\n",
       "2     d  0.000001  0.011087  0.000033     0.02144         0.070\n",
       "3     e  0.000002  0.016700  0.000039     0.02817         0.085\n",
       "4     f  0.000002  0.025207  0.000045     0.03710         0.063\n",
       "5     g  0.000004  0.033821  0.000048     0.04510         0.061\n",
       "6     h       NaN  0.054758  0.000032     0.06300           NaN\n",
       "7  star  0.080200       NaN  0.000544         NaN           NaN"
      ]
     },
     "execution_count": 6,
     "metadata": {},
     "output_type": "execute_result"
    }
   ],
   "source": [
    "system_AU"
   ]
  },
  {
   "cell_type": "code",
   "execution_count": 7,
   "metadata": {
    "collapsed": false
   },
   "outputs": [
    {
     "name": "stdout",
     "output_type": "stream",
     "text": [
      "0.544182879201903\n"
     ]
    }
   ],
   "source": [
    "# radius of the star in 10^-3 AU\n",
    "star_radius_localunits = system_AU[system_AU.name == \"star\"]['radius'].item() * 1e3\n",
    "print(star_radius_localunits)"
   ]
  },
  {
   "cell_type": "code",
   "execution_count": 8,
   "metadata": {
    "collapsed": false,
    "scrolled": true
   },
   "outputs": [
    {
     "data": {
      "text/html": [
       "<div>\n",
       "<table border=\"1\" class=\"dataframe\">\n",
       "  <thead>\n",
       "    <tr style=\"text-align: right;\">\n",
       "      <th></th>\n",
       "      <th>name</th>\n",
       "      <th>mass</th>\n",
       "      <th>period</th>\n",
       "      <th>radius</th>\n",
       "      <th>semi-major</th>\n",
       "      <th>eccentricity</th>\n",
       "    </tr>\n",
       "  </thead>\n",
       "  <tbody>\n",
       "    <tr>\n",
       "      <th>0</th>\n",
       "      <td>b</td>\n",
       "      <td>0.000032</td>\n",
       "      <td>1.510871</td>\n",
       "      <td>1.086</td>\n",
       "      <td>11.11</td>\n",
       "      <td>0.081</td>\n",
       "    </tr>\n",
       "    <tr>\n",
       "      <th>1</th>\n",
       "      <td>c</td>\n",
       "      <td>0.000052</td>\n",
       "      <td>2.421823</td>\n",
       "      <td>1.056</td>\n",
       "      <td>15.21</td>\n",
       "      <td>0.083</td>\n",
       "    </tr>\n",
       "    <tr>\n",
       "      <th>2</th>\n",
       "      <td>d</td>\n",
       "      <td>0.000015</td>\n",
       "      <td>4.049610</td>\n",
       "      <td>0.772</td>\n",
       "      <td>21.44</td>\n",
       "      <td>0.070</td>\n",
       "    </tr>\n",
       "    <tr>\n",
       "      <th>3</th>\n",
       "      <td>e</td>\n",
       "      <td>0.000023</td>\n",
       "      <td>6.099615</td>\n",
       "      <td>0.918</td>\n",
       "      <td>28.17</td>\n",
       "      <td>0.085</td>\n",
       "    </tr>\n",
       "    <tr>\n",
       "      <th>4</th>\n",
       "      <td>f</td>\n",
       "      <td>0.000025</td>\n",
       "      <td>9.206690</td>\n",
       "      <td>1.045</td>\n",
       "      <td>37.10</td>\n",
       "      <td>0.063</td>\n",
       "    </tr>\n",
       "    <tr>\n",
       "      <th>5</th>\n",
       "      <td>g</td>\n",
       "      <td>0.000050</td>\n",
       "      <td>12.352940</td>\n",
       "      <td>1.127</td>\n",
       "      <td>45.10</td>\n",
       "      <td>0.061</td>\n",
       "    </tr>\n",
       "  </tbody>\n",
       "</table>\n",
       "</div>"
      ],
      "text/plain": [
       "  name      mass     period  radius  semi-major  eccentricity\n",
       "0    b  0.000032   1.510871   1.086       11.11         0.081\n",
       "1    c  0.000052   2.421823   1.056       15.21         0.083\n",
       "2    d  0.000015   4.049610   0.772       21.44         0.070\n",
       "3    e  0.000023   6.099615   0.918       28.17         0.085\n",
       "4    f  0.000025   9.206690   1.045       37.10         0.063\n",
       "5    g  0.000050  12.352940   1.127       45.10         0.061"
      ]
     },
     "execution_count": 8,
     "metadata": {},
     "output_type": "execute_result"
    }
   ],
   "source": [
    "planets"
   ]
  },
  {
   "cell_type": "markdown",
   "metadata": {},
   "source": [
    "### Convenience functions "
   ]
  },
  {
   "cell_type": "markdown",
   "metadata": {},
   "source": [
    "The [value of the astronomical unit (au)](http://ssd.jpl.nasa.gov/?faq#B05) is *defined* to be: \n",
    "\n",
    "1 au = 149,597,870,700 m"
   ]
  },
  {
   "cell_type": "code",
   "execution_count": 9,
   "metadata": {
    "collapsed": true
   },
   "outputs": [],
   "source": [
    "def km2au(x):\n",
    "    return x / 149597870.700\n",
    "\n",
    "def au2km(x):\n",
    "    return x * 149597870.700"
   ]
  },
  {
   "cell_type": "markdown",
   "metadata": {},
   "source": [
    "## Kepler orbits\n",
    "See Wang Ch 4.2.3\n",
    "\n",
    "Orbits with sun at one focus (origin). $r_\\text{max}$ is the distance of the sun to the aphelion (farthest) point of orbit; $r_\\text{min}$ to perihelion. $a$ is the semi-major axis.\n",
    "\n",
    "$$\n",
    "r_\\text{max} = a(1+e)\\\\\n",
    "r_\\text{min} = a(1-e)\n",
    "$$\n",
    "\n",
    "The velocity at the aphelion is\n",
    "\n",
    "$$\n",
    "v_\\text{ap} = \\sqrt{\\frac{k}{ma} \\frac{1-e}{1+e}} = \\sqrt{\\frac{GM}{a} \\frac{1-e}{1+e}}\n",
    "$$\n",
    "\n",
    "with\n",
    "\n",
    "$$\n",
    "k = GmM\n",
    "$$\n"
   ]
  },
  {
   "cell_type": "code",
   "execution_count": 10,
   "metadata": {
    "collapsed": true
   },
   "outputs": [],
   "source": [
    "import numpy as np\n",
    "import matplotlib\n",
    "import matplotlib.pyplot as plt\n",
    "%matplotlib inline\n",
    "matplotlib.style.use('ggplot')\n",
    "\n",
    "# in AU (solar system) units\n",
    "#G = 4*np.pi**2\n",
    "\n",
    "# length = 1e-3 AU, time = d, M = M_star\n",
    "G = 4*np.pi**2 * (1e3)**3 / (365.25)**2 * M_star_in_solar_mass"
   ]
  },
  {
   "cell_type": "code",
   "execution_count": 11,
   "metadata": {
    "collapsed": true
   },
   "outputs": [],
   "source": [
    "def rmax(a, e):\n",
    "    return a*(1+e)\n",
    "\n",
    "def v_aphelion(a, e, M):\n",
    "    return np.sqrt(G*M*(1-e)/(a*(1+e)))"
   ]
  },
  {
   "cell_type": "code",
   "execution_count": 12,
   "metadata": {
    "collapsed": false
   },
   "outputs": [],
   "source": [
    "planets_x = rmax(planets['semi-major'], planets['eccentricity'])\n",
    "planets_vy = v_aphelion(planets['semi-major'], planets['eccentricity'], M=M_star)"
   ]
  },
  {
   "cell_type": "code",
   "execution_count": 13,
   "metadata": {
    "collapsed": false
   },
   "outputs": [],
   "source": [
    "def F_gravity(r, m, M=1.0):\n",
    "    rr = np.sum(r*r)\n",
    "    rhat = r/np.sqrt(rr)\n",
    "    return G*m*M/rr * rhat\n",
    "\n",
    "def U_gravity(r, m, M=1.0):\n",
    "    return -G*m*M/np.sqrt(np.sum(r*r))"
   ]
  },
  {
   "cell_type": "code",
   "execution_count": 14,
   "metadata": {
    "collapsed": true
   },
   "outputs": [],
   "source": [
    "def planet_orbit(r0, v0, mass, M_star=M_star, dt=0.001, t_max=1):\n",
    "    \"\"\"2D planetary motion with velocity verlet\"\"\"\n",
    "    dim = len(r0)\n",
    "    assert len(v0) == dim\n",
    "\n",
    "    nsteps = int(t_max/dt)\n",
    "\n",
    "    r = np.zeros((nsteps, dim))\n",
    "    v = np.zeros_like(r)\n",
    "\n",
    "    r[0, :] = r0\n",
    "    v[0, :] = v0\n",
    "\n",
    "    # start force evaluation for first step\n",
    "    Ft = F_gravity(-r[0], m=mass, M=M_star)\n",
    "    for i in range(nsteps-1):\n",
    "        vhalf = v[i] + 0.5*dt * Ft/mass\n",
    "        r[i+1, :] = r[i] + dt * vhalf\n",
    "        Ftdt = F_gravity(-r[i+1], m=mass, M=M_star)\n",
    "        v[i+1] = vhalf + 0.5*dt * Ftdt/mass\n",
    "        # new force becomes old force\n",
    "        Ft = Ftdt\n",
    "    \n",
    "    return r, v"
   ]
  },
  {
   "cell_type": "markdown",
   "metadata": {},
   "source": [
    "Orbit of TRAPPIST-b (without any additional interactions): establish basic values for run parameters."
   ]
  },
  {
   "cell_type": "code",
   "execution_count": 15,
   "metadata": {
    "collapsed": false
   },
   "outputs": [],
   "source": [
    "idx = planets[planets['name'] == 'b'].index\n",
    "r0 = np.array([planets_x[idx].item(), 0])\n",
    "v0 = np.array([0, planets_vy[idx].item()])\n",
    "mass = planets['mass'][idx].item()"
   ]
  },
  {
   "cell_type": "code",
   "execution_count": 16,
   "metadata": {
    "collapsed": false
   },
   "outputs": [],
   "source": [
    "r, v = planet_orbit(r0, v0, mass=mass, M_star=M_star, t_max=1.5, dt=0.01)"
   ]
  },
  {
   "cell_type": "code",
   "execution_count": 17,
   "metadata": {
    "collapsed": false
   },
   "outputs": [
    {
     "data": {
      "image/png": "[encoded data removed]",
      "text/plain": [
       "<matplotlib.figure.Figure at 0x112c150f0>"
      ]
     },
     "metadata": {},
     "output_type": "display_data"
    }
   ],
   "source": [
    "rx, ry = r.T\n",
    "ax = plt.subplot(1,1,1)\n",
    "ax.set_aspect(1)\n",
    "ax.plot(rx, ry)\n",
    "star_circle = plt.Circle([0, 0], star_radius_localunits, color='orange', alpha=0.9)\n",
    "planet_circle = plt.Circle(r[-1], 5 * system_AU.iloc[idx]['radius']*1e3, color='gray', alpha=0.4)\n",
    "ax.add_artist(star_circle);\n",
    "ax.add_artist(planet_circle);"
   ]
  },
  {
   "cell_type": "markdown",
   "metadata": {},
   "source": [
    "Looks ok."
   ]
  },
  {
   "cell_type": "code",
   "execution_count": 18,
   "metadata": {
    "collapsed": false
   },
   "outputs": [
    {
     "data": {
      "text/html": [
       "<div>\n",
       "<table border=\"1\" class=\"dataframe\">\n",
       "  <thead>\n",
       "    <tr style=\"text-align: right;\">\n",
       "      <th></th>\n",
       "      <th>name</th>\n",
       "      <th>mass</th>\n",
       "      <th>period</th>\n",
       "      <th>radius</th>\n",
       "      <th>semi-major</th>\n",
       "      <th>eccentricity</th>\n",
       "    </tr>\n",
       "  </thead>\n",
       "  <tbody>\n",
       "    <tr>\n",
       "      <th>0</th>\n",
       "      <td>b</td>\n",
       "      <td>0.000032</td>\n",
       "      <td>1.510871</td>\n",
       "      <td>1.086</td>\n",
       "      <td>11.11</td>\n",
       "      <td>0.081</td>\n",
       "    </tr>\n",
       "    <tr>\n",
       "      <th>1</th>\n",
       "      <td>c</td>\n",
       "      <td>0.000052</td>\n",
       "      <td>2.421823</td>\n",
       "      <td>1.056</td>\n",
       "      <td>15.21</td>\n",
       "      <td>0.083</td>\n",
       "    </tr>\n",
       "    <tr>\n",
       "      <th>2</th>\n",
       "      <td>d</td>\n",
       "      <td>0.000015</td>\n",
       "      <td>4.049610</td>\n",
       "      <td>0.772</td>\n",
       "      <td>21.44</td>\n",
       "      <td>0.070</td>\n",
       "    </tr>\n",
       "    <tr>\n",
       "      <th>3</th>\n",
       "      <td>e</td>\n",
       "      <td>0.000023</td>\n",
       "      <td>6.099615</td>\n",
       "      <td>0.918</td>\n",
       "      <td>28.17</td>\n",
       "      <td>0.085</td>\n",
       "    </tr>\n",
       "    <tr>\n",
       "      <th>4</th>\n",
       "      <td>f</td>\n",
       "      <td>0.000025</td>\n",
       "      <td>9.206690</td>\n",
       "      <td>1.045</td>\n",
       "      <td>37.10</td>\n",
       "      <td>0.063</td>\n",
       "    </tr>\n",
       "    <tr>\n",
       "      <th>5</th>\n",
       "      <td>g</td>\n",
       "      <td>0.000050</td>\n",
       "      <td>12.352940</td>\n",
       "      <td>1.127</td>\n",
       "      <td>45.10</td>\n",
       "      <td>0.061</td>\n",
       "    </tr>\n",
       "  </tbody>\n",
       "</table>\n",
       "</div>"
      ],
      "text/plain": [
       "  name      mass     period  radius  semi-major  eccentricity\n",
       "0    b  0.000032   1.510871   1.086       11.11         0.081\n",
       "1    c  0.000052   2.421823   1.056       15.21         0.083\n",
       "2    d  0.000015   4.049610   0.772       21.44         0.070\n",
       "3    e  0.000023   6.099615   0.918       28.17         0.085\n",
       "4    f  0.000025   9.206690   1.045       37.10         0.063\n",
       "5    g  0.000050  12.352940   1.127       45.10         0.061"
      ]
     },
     "execution_count": 18,
     "metadata": {},
     "output_type": "execute_result"
    }
   ],
   "source": [
    "planets"
   ]
  },
  {
   "cell_type": "markdown",
   "metadata": {},
   "source": [
    "## Many body system "
   ]
  },
  {
   "cell_type": "markdown",
   "metadata": {},
   "source": [
    "### Star fixed\n",
    "Assume that the central star (TRAPPIST1a) can be approximated as fixed."
   ]
  },
  {
   "cell_type": "code",
   "execution_count": 19,
   "metadata": {
    "collapsed": true
   },
   "outputs": [],
   "source": [
    "def orbits(r0, v0, masses, M_star=M_star, dt=0.001, t_max=1):\n",
    "    \"\"\"2D planetary motion with velocity verlet for multiple planets\"\"\"\n",
    "    N_bodies = len(masses)\n",
    "    assert r0.shape[0] == N_bodies\n",
    "    dim = r0.shape[1]\n",
    "    assert np.all(v0.shape == r0.shape)\n",
    "\n",
    "    nsteps = int(t_max/dt)\n",
    "\n",
    "    r = np.zeros((nsteps, N_bodies, dim))\n",
    "    v = np.zeros_like(r)\n",
    "\n",
    "    r[0, :, :] = r0\n",
    "    v[0, :, :] = v0\n",
    "\n",
    "    # start force evaluation for first step\n",
    "    Ft = forces(r[0], masses, M_star)\n",
    "    for i in range(nsteps-1):\n",
    "        vhalf = v[i] + 0.5*dt * Ft/masses[:, np.newaxis]\n",
    "        r[i+1, :] = r[i] + dt * vhalf\n",
    "        Ftdt = forces(r[i+1], masses, M_star)\n",
    "        v[i+1] = vhalf + 0.5*dt * Ftdt/masses[:, np.newaxis]\n",
    "        # new force becomes old force\n",
    "        Ft = Ftdt\n",
    "    return r, v\n",
    "\n",
    "def forces(r, masses, M):\n",
    "    F = np.zeros_like(r)\n",
    "    for i, m in enumerate(masses):\n",
    "        # planet - star (note: minus sign to be consistent with rij!)\n",
    "        F[i, :] = F_gravity(-r[i], m=m, M=M)\n",
    "        for j in range(i+1, len(masses)):\n",
    "            # force of planet j on i\n",
    "            rij = r[j] - r[i]\n",
    "            Fij = F_gravity(rij, m=m, M=masses[j])\n",
    "            F[i] += Fij\n",
    "            # Newton's 3rd law:\n",
    "            Fji = -Fij\n",
    "            F[j] += Fji\n",
    "    return F\n",
    "            "
   ]
  },
  {
   "cell_type": "code",
   "execution_count": 20,
   "metadata": {
    "collapsed": true
   },
   "outputs": [],
   "source": [
    "r0 = np.array([planets_x, np.zeros_like(planets_x)]).T\n",
    "v0 = np.array([np.zeros_like(planets_vy), planets_vy]).T\n",
    "masses = planets['mass'].values"
   ]
  },
  {
   "cell_type": "code",
   "execution_count": 21,
   "metadata": {
    "collapsed": false
   },
   "outputs": [
    {
     "data": {
      "text/plain": [
       "array([[-0.00523389,  0.        ],\n",
       "       [-0.00451814,  0.        ],\n",
       "       [-0.00069199,  0.        ],\n",
       "       [-0.00058942,  0.        ],\n",
       "       [-0.00038804,  0.        ],\n",
       "       [-0.00051998, -0.        ]])"
      ]
     },
     "execution_count": 21,
     "metadata": {},
     "output_type": "execute_result"
    }
   ],
   "source": [
    "forces(r0, masses, M_star)"
   ]
  },
  {
   "cell_type": "code",
   "execution_count": 22,
   "metadata": {
    "collapsed": false
   },
   "outputs": [],
   "source": [
    "r, v = orbits(r0, v0, masses, t_max=5, dt=0.01)"
   ]
  },
  {
   "cell_type": "code",
   "execution_count": 23,
   "metadata": {
    "collapsed": false
   },
   "outputs": [
    {
     "data": {
      "text/plain": [
       "(500, 6, 2)"
      ]
     },
     "execution_count": 23,
     "metadata": {},
     "output_type": "execute_result"
    }
   ],
   "source": [
    "r.shape"
   ]
  },
  {
   "cell_type": "code",
   "execution_count": 24,
   "metadata": {
    "collapsed": false
   },
   "outputs": [],
   "source": [
    "def plot_orbits(r):\n",
    "    ax = plt.subplot(111)\n",
    "    ax.set_aspect(1)\n",
    "    for planet in range(r.shape[1]):\n",
    "        rx, ry = r[:, planet, :].T\n",
    "        ax.plot(rx, ry)\n",
    "        ax.plot(rx[-1], ry[-1], 'o', ms=4, color=\"gray\", alpha=0.5)\n",
    "        planet_circle = plt.Circle([rx[-1], ry[-1]], 5 * system_AU.iloc[planet]['radius']*1e3, color='gray', alpha=0.4)\n",
    "        ax.add_artist(planet_circle)\n",
    "    ax.add_artist(plt.Circle([0, 0], star_radius_localunits, color='orange', alpha=0.9))\n",
    "    return ax"
   ]
  },
  {
   "cell_type": "markdown",
   "metadata": {},
   "source": [
    "Note that size *is to scale* (but planets are magnified 5 times)."
   ]
  },
  {
   "cell_type": "code",
   "execution_count": 25,
   "metadata": {
    "collapsed": false
   },
   "outputs": [
    {
     "data": {
      "text/plain": [
       "<matplotlib.axes._subplots.AxesSubplot at 0x113792f60>"
      ]
     },
     "execution_count": 25,
     "metadata": {},
     "output_type": "execute_result"
    },
    {
     "data": {
      "image/png": "[encoded data removed]",
      "text/plain": [
       "<matplotlib.figure.Figure at 0x115d420b8>"
      ]
     },
     "metadata": {},
     "output_type": "display_data"
    }
   ],
   "source": [
    "plot_orbits(r)"
   ]
  },
  {
   "cell_type": "code",
   "execution_count": 26,
   "metadata": {
    "collapsed": false
   },
   "outputs": [
    {
     "data": {
      "text/plain": [
       "<matplotlib.axes._subplots.AxesSubplot at 0x1162524e0>"
      ]
     },
     "execution_count": 26,
     "metadata": {},
     "output_type": "execute_result"
    },
    {
     "data": {
      "image/png": "[encoded data removed]",
      "text/plain": [
       "<matplotlib.figure.Figure at 0x11383fc50>"
      ]
     },
     "metadata": {},
     "output_type": "display_data"
    }
   ],
   "source": [
    "r, v = orbits(r0, v0, masses, t_max=1000, dt=0.01)\n",
    "plot_orbits(r)"
   ]
  },
  {
   "cell_type": "markdown",
   "metadata": {},
   "source": [
    "### BONUS: Star moves\n",
    "Include movement of the central star (TRAPPIST1a). Choose initial conditions so that the total momentum of the system is zero."
   ]
  },
  {
   "cell_type": "code",
   "execution_count": 27,
   "metadata": {
    "collapsed": true
   },
   "outputs": [],
   "source": [
    "def orbits2(r0, v0, masses, M_star=M_star, dt=0.001, t_max=1):\n",
    "    \"\"\"2D planetary motion with velocity verlet for multiple planets and star.\"\"\"\n",
    "    N_bodies = len(masses)\n",
    "    assert r0.shape[0] == N_bodies\n",
    "    dim = r0.shape[1]\n",
    "    assert np.all(v0.shape == r0.shape)\n",
    "\n",
    "    nsteps = int(t_max/dt)\n",
    "\n",
    "    r = np.zeros((nsteps, N_bodies, dim))\n",
    "    v = np.zeros_like(r)\n",
    "\n",
    "    r[0, :, :] = r0\n",
    "    v[0, :, :] = v0\n",
    "\n",
    "    # start force evaluation for first step\n",
    "    Ft = forces2(r[0], masses)\n",
    "    for i in range(nsteps-1):\n",
    "        vhalf = v[i] + 0.5*dt * Ft/masses[:, np.newaxis]\n",
    "        r[i+1, :] = r[i] + dt * vhalf\n",
    "        Ftdt = forces2(r[i+1], masses)\n",
    "        v[i+1] = vhalf + 0.5*dt * Ftdt/masses[:, np.newaxis]\n",
    "        # new force becomes old force\n",
    "        Ft = Ftdt\n",
    "        if np.linalg.norm(Ft.sum(axis=0)) > 1e-12:\n",
    "            print(\"Violation of Newton's 3rd law: F = {}\".format(Ft))\n",
    "    return r, v\n",
    "\n",
    "def forces2(r, masses):\n",
    "    F = np.zeros_like(r)\n",
    "    for i, m in enumerate(masses):\n",
    "        for j in range(i+1, len(masses)):\n",
    "            # force of body j on i\n",
    "            rij = r[j] - r[i]\n",
    "            Fij = F_gravity(rij, m=m, M=masses[j])\n",
    "            F[i] += Fij\n",
    "            # Newton's 3rd law:\n",
    "            Fji = -Fij\n",
    "            F[j] += Fji\n",
    "    return F\n",
    "            "
   ]
  },
  {
   "cell_type": "code",
   "execution_count": 28,
   "metadata": {
    "collapsed": false
   },
   "outputs": [],
   "source": [
    "# planets \n",
    "r0 = np.array([planets_x, np.zeros_like(planets_x)]).T\n",
    "v0 = np.array([np.zeros_like(planets_vy), planets_vy]).T\n",
    "masses = planets['mass'].values\n",
    "\n",
    "# prepend star\n",
    "r0_system = np.vstack((np.array([[0, 0]]), r0))\n",
    "\n",
    "# choose star velocity to make total momentum 0\n",
    "p_planets = np.sum(masses[:, np.newaxis] * v0, axis=0)\n",
    "v0_star = -p_planets / M_star\n",
    "v0_system = np.vstack((v0_star, v0))\n",
    "\n",
    "masses_system = np.concatenate(([M_star], masses))"
   ]
  },
  {
   "cell_type": "code",
   "execution_count": 29,
   "metadata": {
    "collapsed": false
   },
   "outputs": [
    {
     "data": {
      "text/plain": [
       "array([[  0.     ,   0.     ],\n",
       "       [ 12.00991,   0.     ],\n",
       "       [ 16.47243,   0.     ],\n",
       "       [ 22.9408 ,   0.     ],\n",
       "       [ 30.56445,   0.     ],\n",
       "       [ 39.4373 ,   0.     ],\n",
       "       [ 47.8511 ,   0.     ]])"
      ]
     },
     "execution_count": 29,
     "metadata": {},
     "output_type": "execute_result"
    }
   ],
   "source": [
    "r0_system"
   ]
  },
  {
   "cell_type": "code",
   "execution_count": 30,
   "metadata": {
    "collapsed": false
   },
   "outputs": [
    {
     "data": {
      "text/plain": [
       "array([[ -0.00000000e+00,  -6.01597122e-03],\n",
       "       [  0.00000000e+00,   4.26152173e+01],\n",
       "       [  0.00000000e+00,   3.63481792e+01],\n",
       "       [  0.00000000e+00,   3.10180165e+01],\n",
       "       [  0.00000000e+00,   2.66550243e+01],\n",
       "       [  0.00000000e+00,   2.37461407e+01],\n",
       "       [  0.00000000e+00,   2.15806073e+01]])"
      ]
     },
     "execution_count": 30,
     "metadata": {},
     "output_type": "execute_result"
    }
   ],
   "source": [
    "v0_system"
   ]
  },
  {
   "cell_type": "code",
   "execution_count": 31,
   "metadata": {
    "collapsed": false
   },
   "outputs": [
    {
     "name": "stdout",
     "output_type": "stream",
     "text": [
      "[[ 0.01194524  0.        ]\n",
      " [-0.00523389  0.        ]\n",
      " [-0.0045201   0.        ]\n",
      " [-0.00069254  0.        ]\n",
      " [-0.00058976  0.        ]\n",
      " [-0.00038834  0.        ]\n",
      " [-0.00052062  0.        ]]\n"
     ]
    },
    {
     "data": {
      "text/plain": [
       "array([  1.40946282e-18,   0.00000000e+00])"
      ]
     },
     "execution_count": 31,
     "metadata": {},
     "output_type": "execute_result"
    }
   ],
   "source": [
    "f0 = forces2(r0_system, masses_system)\n",
    "print(f0)\n",
    "f0.sum(axis=0)"
   ]
  },
  {
   "cell_type": "code",
   "execution_count": 32,
   "metadata": {
    "collapsed": false
   },
   "outputs": [],
   "source": [
    "r, v = orbits2(r0_system, v0_system, masses_system, t_max=5, dt=0.01)"
   ]
  },
  {
   "cell_type": "code",
   "execution_count": 33,
   "metadata": {
    "collapsed": false
   },
   "outputs": [
    {
     "data": {
      "text/plain": [
       "(500, 7, 2)"
      ]
     },
     "execution_count": 33,
     "metadata": {},
     "output_type": "execute_result"
    }
   ],
   "source": [
    "r.shape"
   ]
  },
  {
   "cell_type": "code",
   "execution_count": 34,
   "metadata": {
    "collapsed": false
   },
   "outputs": [],
   "source": [
    "def plot_orbits2(r, ax=None, scale=5):\n",
    "    if ax is None:\n",
    "        ax = plt.subplot(111)\n",
    "    ax.set_aspect(1)\n",
    "    for planet in range(r.shape[1]):\n",
    "        rx, ry = r[:, planet, :].T\n",
    "        ax.plot(rx, ry)\n",
    "        if planet == 0:\n",
    "            # star\n",
    "            ax.add_artist(plt.Circle([rx[-1], ry[-1]], star_radius_localunits, color='orange', alpha=0.9, zorder=1))\n",
    "        else: # planet\n",
    "            idx = planet - 1\n",
    "            radius = scale * system_AU.iloc[idx]['radius']*1e3\n",
    "            planet_circle = plt.Circle([rx[-1], ry[-1]], radius, color='gray', alpha=0.8, zorder=2)\n",
    "            ax.add_artist(planet_circle)\n",
    "    return ax"
   ]
  },
  {
   "cell_type": "code",
   "execution_count": 35,
   "metadata": {
    "collapsed": false
   },
   "outputs": [
    {
     "data": {
      "text/plain": [
       "<matplotlib.axes._subplots.AxesSubplot at 0x116281e80>"
      ]
     },
     "execution_count": 35,
     "metadata": {},
     "output_type": "execute_result"
    },
    {
     "data": {
      "image/png": "[encoded data removed]",
      "text/plain": [
       "<matplotlib.figure.Figure at 0x11795cda0>"
      ]
     },
     "metadata": {},
     "output_type": "display_data"
    }
   ],
   "source": [
    "plot_orbits2(r)"
   ]
  },
  {
   "cell_type": "code",
   "execution_count": 36,
   "metadata": {
    "collapsed": false
   },
   "outputs": [
    {
     "data": {
      "text/plain": [
       "<matplotlib.axes._subplots.AxesSubplot at 0x1187ba160>"
      ]
     },
     "execution_count": 36,
     "metadata": {},
     "output_type": "execute_result"
    },
    {
     "data": {
      "image/png": "[encoded data removed]",
      "text/plain": [
       "<matplotlib.figure.Figure at 0x1187b4e80>"
      ]
     },
     "metadata": {},
     "output_type": "display_data"
    }
   ],
   "source": [
    "r_star = r[:, 0][:, np.newaxis, :]\n",
    "plot_orbits2(r_star)\n",
    "#star_size = plt.Circle(r_star[-1, 0], star_radius_localunits, color='gray', alpha=0.3)\n",
    "#plt.gcf().gca().add_artist(star_size);"
   ]
  },
  {
   "cell_type": "markdown",
   "metadata": {},
   "source": [
    "Now for 1000 d:"
   ]
  },
  {
   "cell_type": "code",
   "execution_count": 37,
   "metadata": {
    "collapsed": false,
    "scrolled": true
   },
   "outputs": [],
   "source": [
    "r, v = orbits2(r0_system, v0_system, masses_system, t_max=1000, dt=0.01)"
   ]
  },
  {
   "cell_type": "code",
   "execution_count": 38,
   "metadata": {
    "collapsed": false
   },
   "outputs": [
    {
     "data": {
      "text/plain": [
       "(-50, 50)"
      ]
     },
     "execution_count": 38,
     "metadata": {},
     "output_type": "execute_result"
    },
    {
     "data": {
      "image/png": "[encoded data removed]",
      "text/plain": [
       "<matplotlib.figure.Figure at 0x1198f7400>"
      ]
     },
     "metadata": {},
     "output_type": "display_data"
    }
   ],
   "source": [
    "ax = plot_orbits2(r, scale=10)\n",
    "ax.set_xlim(-50, 50)\n",
    "ax.set_ylim(-50, 50)"
   ]
  },
  {
   "cell_type": "code",
   "execution_count": 39,
   "metadata": {
    "collapsed": false,
    "scrolled": false
   },
   "outputs": [
    {
     "data": {
      "text/plain": [
       "(-0.6, 0.6)"
      ]
     },
     "execution_count": 39,
     "metadata": {},
     "output_type": "execute_result"
    },
    {
     "data": {
      "image/png": "[encoded data removed]",
      "text/plain": [
       "<matplotlib.figure.Figure at 0x1199b7b00>"
      ]
     },
     "metadata": {},
     "output_type": "display_data"
    }
   ],
   "source": [
    "r_star = r[:, 0][:, np.newaxis, :]\n",
    "ax1 = plt.subplot(121)\n",
    "plot_orbits2(r_star, ax=ax1)\n",
    "ax2 = plt.subplot(122)\n",
    "plot_orbits2(r_star, ax=ax2)\n",
    "ax2.set_xlim(-0.6, 0.6)\n",
    "ax2.set_ylim(-0.6, 0.6)"
   ]
  },
  {
   "cell_type": "code",
   "execution_count": 40,
   "metadata": {
    "collapsed": false
   },
   "outputs": [
    {
     "data": {
      "text/plain": [
       "0.544182879201903"
      ]
     },
     "execution_count": 40,
     "metadata": {},
     "output_type": "execute_result"
    }
   ],
   "source": [
    "star_radius_localunits"
   ]
  },
  {
   "cell_type": "markdown",
   "metadata": {},
   "source": [
    "The orbit of the star TRAPPIST-1a is inside star. Thus the common center of mass of the system is inside the star itself and probably no clear wobble is observable."
   ]
  },
  {
   "cell_type": "markdown",
   "metadata": {},
   "source": [
    "Could the wobble be observed by [Doppler spectroscopy](https://en.wikipedia.org/wiki/Doppler_spectroscopy) measurements? Third generation instruments are sensitive to 0.1 m/s.\n",
    "\n",
    "Assume ideal observation geometry (namely, observation side on). We approximate the [radial velocity](https://en.wikipedia.org/wiki/Radial_velocity) by the y-component of the velocity, $v_y$. (In principle it is the projection of the velocity on the observation direction but the change in angle is going to be very small and not much different from 0 because the observation distances is so much larger than the extend of the star motion. We could have also picked $v_x$ or any other viewing direction to get a sense for the magnitudes involved.)\n",
    "\n",
    "Compute the time series of star velocities and look at the maximum differences."
   ]
  },
  {
   "cell_type": "code",
   "execution_count": 41,
   "metadata": {
    "collapsed": false
   },
   "outputs": [],
   "source": [
    "v_star = v[:, 0]\n",
    "vy_star = v_star[:, 1]  # in 1e-3 au/d\n",
    "vy_star_ms = au2km(vy_star * 1e-3) * 1e3 / (24*3600)\n",
    "dt = 0.01\n",
    "time = dt * np.arange(0, len(vy_star))"
   ]
  },
  {
   "cell_type": "code",
   "execution_count": 42,
   "metadata": {
    "collapsed": false,
    "scrolled": true
   },
   "outputs": [
    {
     "data": {
      "image/png": "[encoded data removed]",
      "text/plain": [
       "<matplotlib.figure.Figure at 0x11bdb7d68>"
      ]
     },
     "metadata": {},
     "output_type": "display_data"
    }
   ],
   "source": [
    "ax1 = plt.subplot(121)\n",
    "ax1.plot(time, vy_star_ms)\n",
    "ax1.set_xlabel(r\"time $t$ (d)\")\n",
    "ax1.set_ylabel(r\"radial $v_y$ (m/s)\")\n",
    "ax2 = plt.subplot(122)\n",
    "ax2.plot(time, vy_star_ms)\n",
    "ax2.set_xlabel(r\"time $t$ (d)\")\n",
    "ax2.set_xlim(250, 280)\n",
    "ax1.figure.tight_layout()"
   ]
  },
  {
   "cell_type": "code",
   "execution_count": 43,
   "metadata": {
    "collapsed": false
   },
   "outputs": [
    {
     "name": "stdout",
     "output_type": "stream",
     "text": [
      "Delta v_radial = 21.8 m/s\n",
      "max v_r = 11.4 m/s\n",
      "min v_r = -10.4 m/s\n"
     ]
    }
   ],
   "source": [
    "vy_max, vy_min = vy_star_ms.max(), vy_star_ms.min()\n",
    "print(\"Delta v_radial = {0:.1f} m/s\\nmax v_r = {1:.1f} m/s\\nmin v_r = {2:.1f} m/s\".format(vy_max-vy_min, vy_max, vy_min))"
   ]
  },
  {
   "cell_type": "markdown",
   "metadata": {},
   "source": [
    "Based on these radial velocity estimates, it should be easy to detect the planet motion with Doppler spectroscopy."
   ]
  },
  {
   "cell_type": "markdown",
   "metadata": {},
   "source": [
    "## Analysis of planet visibility \n",
    "\n",
    "Produce a time series of \"number of visible planets from planet *i* as a function of time\".\n",
    "\n",
    "Or perhaps better: How many planets are close enough so that one could see (1) continents (1000 km) (2) cities (10 km)?\n"
   ]
  },
  {
   "cell_type": "markdown",
   "metadata": {
    "collapsed": true
   },
   "source": [
    "#### Resolution of the human eye\n",
    "The [naked eye](https://en.wikipedia.org/wiki/Naked_eye) has a typical angular resolution of about $\\theta_\\text{eye} = 1'$ (**1 arcminute**), i.e., details that appear at a viewing angle of $\\theta ≥ \\theta_\\text{eye}$ can be resolved."
   ]
  },
  {
   "cell_type": "markdown",
   "metadata": {},
   "source": [
    "The resolution of the eye in degrees:"
   ]
  },
  {
   "cell_type": "code",
   "execution_count": 44,
   "metadata": {
    "collapsed": false,
    "scrolled": true
   },
   "outputs": [
    {
     "name": "stdout",
     "output_type": "stream",
     "text": [
      "0.0167º\n"
     ]
    }
   ],
   "source": [
    "theta_eye_minutes = 1.\n",
    "print(\"{:.4f}º\".format(theta_eye_minutes * 1/60))"
   ]
  },
  {
   "cell_type": "markdown",
   "metadata": {},
   "source": [
    "The resolution of the eye in radians:"
   ]
  },
  {
   "cell_type": "code",
   "execution_count": 45,
   "metadata": {
    "collapsed": false,
    "scrolled": true
   },
   "outputs": [
    {
     "name": "stdout",
     "output_type": "stream",
     "text": [
      "0.000290888208666\n"
     ]
    }
   ],
   "source": [
    "theta_eye = np.deg2rad(theta_eye_minutes * 1/60)\n",
    "print(theta_eye)"
   ]
  },
  {
   "cell_type": "markdown",
   "metadata": {},
   "source": [
    "In general, the viewing angle is the length of the arc $s$ through the end points of the object, divided by the distance $d$\n",
    "\n",
    "$$\n",
    "\\theta = \\frac{s}{d}\n",
    "$$\n",
    "\n",
    "but for $d \\gg s$ (the usual situation in astronomy), we can make the small angle approximation and replace $s$ by the size $y$ of the object\n",
    "\n",
    "$$\n",
    "\\theta \\approx \\frac{y}{d}.\n",
    "$$"
   ]
  },
  {
   "cell_type": "markdown",
   "metadata": {},
   "source": [
    "What is the  size $y$ as a function of distance $d$ that can be resolved with the naked eye?\n",
    "\n",
    "$$\n",
    "\\theta ≥ \\theta_\\text{eye}\n",
    "$$\n",
    "\n",
    "and thus \n",
    "\n",
    "$$\n",
    "y(d) ≥ \\theta_\\text{eye} d\n",
    "$$"
   ]
  },
  {
   "cell_type": "code",
   "execution_count": 46,
   "metadata": {
    "collapsed": true
   },
   "outputs": [],
   "source": [
    "def y_resolved(d, theta=theta_eye):\n",
    "    \"\"\"Size of an object that can be resolved with the eye at distance d\"\"\"\n",
    "    return theta_eye * d"
   ]
  },
  {
   "cell_type": "code",
   "execution_count": 47,
   "metadata": {
    "collapsed": true
   },
   "outputs": [],
   "source": [
    "d_values = np.linspace(1e3, 1e6, 20)"
   ]
  },
  {
   "cell_type": "code",
   "execution_count": 48,
   "metadata": {
    "collapsed": false,
    "scrolled": false
   },
   "outputs": [
    {
     "data": {
      "text/plain": [
       "<matplotlib.text.Text at 0x11d38cf60>"
      ]
     },
     "execution_count": 48,
     "metadata": {},
     "output_type": "execute_result"
    },
    {
     "data": {
      "image/png": "[encoded data removed]",
      "text/plain": [
       "<matplotlib.figure.Figure at 0x11cf42898>"
      ]
     },
     "metadata": {},
     "output_type": "display_data"
    }
   ],
   "source": [
    "ax = plt.subplot(111)\n",
    "ax.plot(d_values, y_resolved(d_values))\n",
    "ax.set_xlabel(\"distance (km)\")\n",
    "ax.set_ylabel(\"resolution (km)\")"
   ]
  },
  {
   "cell_type": "markdown",
   "metadata": {},
   "source": [
    "### Best case scenario: What are the smallest features we can hope to resolve?\n",
    "Find the closest distances between all planets (when they are at closest approach, i.e., *opposition* for planets farther out or *inferior conjunction* for planets towards the star as shown in [Viewing the planets](http://www.astro.cornell.edu/academics/courses/astro201/planet_view.htm), but note that the planet is not visible in inferior conjunction). (based on [How far is each planet from Earth?](http://curious.astro.cornell.edu/about-us/56-our-solar-system/planets-and-dwarf-planets/general-questions/214-how-far-is-each-planet-from-earth-intermediate))"
   ]
  },
  {
   "cell_type": "code",
   "execution_count": 49,
   "metadata": {
    "collapsed": false,
    "scrolled": true
   },
   "outputs": [
    {
     "data": {
      "text/html": [
       "<div>\n",
       "<table border=\"1\" class=\"dataframe\">\n",
       "  <thead>\n",
       "    <tr style=\"text-align: right;\">\n",
       "      <th></th>\n",
       "      <th>name</th>\n",
       "      <th>mass</th>\n",
       "      <th>period</th>\n",
       "      <th>radius</th>\n",
       "      <th>semi-major</th>\n",
       "      <th>eccentricity</th>\n",
       "    </tr>\n",
       "  </thead>\n",
       "  <tbody>\n",
       "    <tr>\n",
       "      <th>0</th>\n",
       "      <td>b</td>\n",
       "      <td>0.000003</td>\n",
       "      <td>0.004137</td>\n",
       "      <td>0.000046</td>\n",
       "      <td>0.01111</td>\n",
       "      <td>0.081</td>\n",
       "    </tr>\n",
       "    <tr>\n",
       "      <th>1</th>\n",
       "      <td>c</td>\n",
       "      <td>0.000004</td>\n",
       "      <td>0.006631</td>\n",
       "      <td>0.000045</td>\n",
       "      <td>0.01521</td>\n",
       "      <td>0.083</td>\n",
       "    </tr>\n",
       "    <tr>\n",
       "      <th>2</th>\n",
       "      <td>d</td>\n",
       "      <td>0.000001</td>\n",
       "      <td>0.011087</td>\n",
       "      <td>0.000033</td>\n",
       "      <td>0.02144</td>\n",
       "      <td>0.070</td>\n",
       "    </tr>\n",
       "    <tr>\n",
       "      <th>3</th>\n",
       "      <td>e</td>\n",
       "      <td>0.000002</td>\n",
       "      <td>0.016700</td>\n",
       "      <td>0.000039</td>\n",
       "      <td>0.02817</td>\n",
       "      <td>0.085</td>\n",
       "    </tr>\n",
       "    <tr>\n",
       "      <th>4</th>\n",
       "      <td>f</td>\n",
       "      <td>0.000002</td>\n",
       "      <td>0.025207</td>\n",
       "      <td>0.000045</td>\n",
       "      <td>0.03710</td>\n",
       "      <td>0.063</td>\n",
       "    </tr>\n",
       "    <tr>\n",
       "      <th>5</th>\n",
       "      <td>g</td>\n",
       "      <td>0.000004</td>\n",
       "      <td>0.033821</td>\n",
       "      <td>0.000048</td>\n",
       "      <td>0.04510</td>\n",
       "      <td>0.061</td>\n",
       "    </tr>\n",
       "    <tr>\n",
       "      <th>6</th>\n",
       "      <td>h</td>\n",
       "      <td>NaN</td>\n",
       "      <td>0.054758</td>\n",
       "      <td>0.000032</td>\n",
       "      <td>0.06300</td>\n",
       "      <td>NaN</td>\n",
       "    </tr>\n",
       "    <tr>\n",
       "      <th>7</th>\n",
       "      <td>star</td>\n",
       "      <td>0.080200</td>\n",
       "      <td>NaN</td>\n",
       "      <td>0.000544</td>\n",
       "      <td>NaN</td>\n",
       "      <td>NaN</td>\n",
       "    </tr>\n",
       "  </tbody>\n",
       "</table>\n",
       "</div>"
      ],
      "text/plain": [
       "   name      mass    period    radius  semi-major  eccentricity\n",
       "0     b  0.000003  0.004137  0.000046     0.01111         0.081\n",
       "1     c  0.000004  0.006631  0.000045     0.01521         0.083\n",
       "2     d  0.000001  0.011087  0.000033     0.02144         0.070\n",
       "3     e  0.000002  0.016700  0.000039     0.02817         0.085\n",
       "4     f  0.000002  0.025207  0.000045     0.03710         0.063\n",
       "5     g  0.000004  0.033821  0.000048     0.04510         0.061\n",
       "6     h       NaN  0.054758  0.000032     0.06300           NaN\n",
       "7  star  0.080200       NaN  0.000544         NaN           NaN"
      ]
     },
     "execution_count": 49,
     "metadata": {},
     "output_type": "execute_result"
    }
   ],
   "source": [
    "system_AU"
   ]
  },
  {
   "cell_type": "code",
   "execution_count": 50,
   "metadata": {
    "collapsed": false,
    "scrolled": false
   },
   "outputs": [
    {
     "name": "stdout",
     "output_type": "stream",
     "text": [
      "0    1.662032e+06\n",
      "1    2.275384e+06\n",
      "2    3.207378e+06\n",
      "3    4.214172e+06\n",
      "4    5.550081e+06\n",
      "5    6.746864e+06\n",
      "6    9.424666e+06\n",
      "7             NaN\n",
      "Name: semi-major, dtype: float64\n"
     ]
    }
   ],
   "source": [
    "a_km = au2km(system_AU['semi-major'])\n",
    "print(a_km)"
   ]
  },
  {
   "cell_type": "markdown",
   "metadata": {},
   "source": [
    "What are the distances between *neighboring planets* when they are directly next to each other in their orbits (i.e., on one line between the star and the planets):"
   ]
  },
  {
   "cell_type": "code",
   "execution_count": 51,
   "metadata": {
    "collapsed": false
   },
   "outputs": [
    {
     "name": "stdout",
     "output_type": "stream",
     "text": [
      "[  613351.26987    931994.734461  1006793.669811  1335908.985351\n",
      "  1196782.9656    2677801.88553 ]\n"
     ]
    }
   ],
   "source": [
    "orbit_spacing = np.diff(a_km[:-1])\n",
    "print(orbit_spacing)"
   ]
  },
  {
   "cell_type": "markdown",
   "metadata": {},
   "source": [
    "In this case the range of resolved feature sizes (in km) is:"
   ]
  },
  {
   "cell_type": "code",
   "execution_count": 52,
   "metadata": {
    "collapsed": false
   },
   "outputs": [
    {
     "data": {
      "text/plain": [
       "array([ 178.41665218,  271.10627879,  292.86440711,  388.60017169,\n",
       "        348.13005303,  778.94099364])"
      ]
     },
     "execution_count": 52,
     "metadata": {},
     "output_type": "execute_result"
    }
   ],
   "source": [
    "y_resolved(orbit_spacing)"
   ]
  },
  {
   "cell_type": "markdown",
   "metadata": {},
   "source": [
    "For the second neighbors:"
   ]
  },
  {
   "cell_type": "code",
   "execution_count": 53,
   "metadata": {
    "collapsed": false
   },
   "outputs": [
    {
     "data": {
      "text/plain": [
       "array([  449.52293097,   563.9706859 ,   681.4645788 ,   736.73022471,\n",
       "        1127.07104667])"
      ]
     },
     "execution_count": 53,
     "metadata": {},
     "output_type": "execute_result"
    }
   ],
   "source": [
    "y_resolved(a_km.values[2:-1] - a_km.values[:-3])"
   ]
  },
  {
   "cell_type": "markdown",
   "metadata": {},
   "source": [
    "In general, compute *all* the distances for directly neighboring planets (e.g. *b* with *e*):"
   ]
  },
  {
   "cell_type": "code",
   "execution_count": 54,
   "metadata": {
    "collapsed": true
   },
   "outputs": [],
   "source": [
    "import scipy.spatial"
   ]
  },
  {
   "cell_type": "code",
   "execution_count": 55,
   "metadata": {
    "collapsed": false,
    "scrolled": true
   },
   "outputs": [
    {
     "name": "stdout",
     "output_type": "stream",
     "text": [
      "[[    0.           178.41665218   449.52293097   742.38733808\n",
      "   1130.98750977  1479.11756279  2258.05855643]\n",
      " [  178.41665218     0.           271.10627879   563.9706859    952.57085759\n",
      "   1300.70091061  2079.64190426]\n",
      " [  449.52293097   271.10627879     0.           292.86440711   681.4645788\n",
      "   1029.59463182  1808.53562547]\n",
      " [  742.38733808   563.9706859    292.86440711     0.           388.60017169\n",
      "    736.73022471  1515.67121836]\n",
      " [ 1130.98750977   952.57085759   681.4645788    388.60017169     0.\n",
      "    348.13005303  1127.07104667]\n",
      " [ 1479.11756279  1300.70091061  1029.59463182   736.73022471\n",
      "    348.13005303     0.           778.94099364]\n",
      " [ 2258.05855643  2079.64190426  1808.53562547  1515.67121836\n",
      "   1127.07104667   778.94099364     0.        ]]\n"
     ]
    }
   ],
   "source": [
    "resolved = y_resolved(scipy.spatial.distance.cdist(a_km[:-1, np.newaxis], a_km[:-1, np.newaxis]))\n",
    "print(resolved)"
   ]
  },
  {
   "cell_type": "markdown",
   "metadata": {},
   "source": [
    "The range of features that can be resolved when planets are directly next to each other in their orbits:"
   ]
  },
  {
   "cell_type": "code",
   "execution_count": 56,
   "metadata": {
    "collapsed": false
   },
   "outputs": [
    {
     "data": {
      "text/plain": [
       "array([  178.,   271.,   293.,   348.,   389.,   450.,   564.,   681.,\n",
       "         737.,   742.,   779.,   953.,  1030.,  1127.,  1131.,  1301.,\n",
       "        1479.,  1516.,  1809.,  2080.,  2258.])"
      ]
     },
     "execution_count": 56,
     "metadata": {},
     "output_type": "execute_result"
    }
   ],
   "source": [
    "x = np.sort(np.triu(resolved, k=1).ravel())\n",
    "np.round(x[x > 0]) #in km"
   ]
  },
  {
   "cell_type": "markdown",
   "metadata": {},
   "source": [
    "### Sidenote: How big does the central star appear? "
   ]
  },
  {
   "cell_type": "markdown",
   "metadata": {},
   "source": [
    "Size of the star in arc minutes (angular diameter) when seen from the planet:"
   ]
  },
  {
   "cell_type": "code",
   "execution_count": 57,
   "metadata": {
    "collapsed": false,
    "scrolled": true
   },
   "outputs": [
    {
     "data": {
      "text/html": [
       "<div>\n",
       "<table border=\"1\" class=\"dataframe\">\n",
       "  <thead>\n",
       "    <tr style=\"text-align: right;\">\n",
       "      <th></th>\n",
       "      <th>name</th>\n",
       "      <th>degrees</th>\n",
       "      <th>minutes</th>\n",
       "      <th>seconds</th>\n",
       "    </tr>\n",
       "  </thead>\n",
       "  <tbody>\n",
       "    <tr>\n",
       "      <th>0</th>\n",
       "      <td>b</td>\n",
       "      <td>5.0</td>\n",
       "      <td>36.0</td>\n",
       "      <td>46.0</td>\n",
       "    </tr>\n",
       "    <tr>\n",
       "      <th>1</th>\n",
       "      <td>c</td>\n",
       "      <td>4.0</td>\n",
       "      <td>5.0</td>\n",
       "      <td>59.0</td>\n",
       "    </tr>\n",
       "    <tr>\n",
       "      <th>2</th>\n",
       "      <td>d</td>\n",
       "      <td>2.0</td>\n",
       "      <td>54.0</td>\n",
       "      <td>31.0</td>\n",
       "    </tr>\n",
       "    <tr>\n",
       "      <th>3</th>\n",
       "      <td>e</td>\n",
       "      <td>2.0</td>\n",
       "      <td>12.0</td>\n",
       "      <td>49.0</td>\n",
       "    </tr>\n",
       "    <tr>\n",
       "      <th>4</th>\n",
       "      <td>f</td>\n",
       "      <td>1.0</td>\n",
       "      <td>40.0</td>\n",
       "      <td>51.0</td>\n",
       "    </tr>\n",
       "    <tr>\n",
       "      <th>5</th>\n",
       "      <td>g</td>\n",
       "      <td>1.0</td>\n",
       "      <td>22.0</td>\n",
       "      <td>58.0</td>\n",
       "    </tr>\n",
       "    <tr>\n",
       "      <th>6</th>\n",
       "      <td>h</td>\n",
       "      <td>0.0</td>\n",
       "      <td>59.0</td>\n",
       "      <td>23.0</td>\n",
       "    </tr>\n",
       "  </tbody>\n",
       "</table>\n",
       "</div>"
      ],
      "text/plain": [
       "  name  degrees  minutes  seconds\n",
       "0    b      5.0     36.0     46.0\n",
       "1    c      4.0      5.0     59.0\n",
       "2    d      2.0     54.0     31.0\n",
       "3    e      2.0     12.0     49.0\n",
       "4    f      1.0     40.0     51.0\n",
       "5    g      1.0     22.0     58.0\n",
       "6    h      0.0     59.0     23.0"
      ]
     },
     "execution_count": 57,
     "metadata": {},
     "output_type": "execute_result"
    }
   ],
   "source": [
    "r_star_au = system_AU['radius'][system_AU['name'] == \"star\"].item()\n",
    "a_au = system_AU['semi-major'][system_AU['name'] != \"star\"]\n",
    "degrees = np.rad2deg(2*r_star_au/a_au)\n",
    "delta_planets = pd.DataFrame(\n",
    "    {\"name\": system_AU['name'][system_AU['name'] != \"star\"],\n",
    "     \"degrees\": degrees // 1,\n",
    "     \"minutes\": ((degrees % 1) * 60) // 1,\n",
    "     \"seconds\": np.round((((degrees % 1) * 60) % 1) * 60),\n",
    "     }, columns=(\"name\", \"degrees\", \"minutes\", \"seconds\"))\n",
    "delta_planets"
   ]
  },
  {
   "cell_type": "markdown",
   "metadata": {},
   "source": [
    "Check: [sun from earth: angular diameter](https://en.wikipedia.org/wiki/Angular_diameter#Use_in_astronomy): 31′31″ – 32′33″"
   ]
  },
  {
   "cell_type": "code",
   "execution_count": 58,
   "metadata": {
    "collapsed": false
   },
   "outputs": [
    {
     "name": "stdout",
     "output_type": "stream",
     "text": [
      "sun angular diameter 31'59\"\n"
     ]
    }
   ],
   "source": [
    "r_sun = 695.8e3 # in km\n",
    "d_earth_sun = au2km(1)\n",
    "delta = np.rad2deg(2*r_sun/d_earth_sun)\n",
    "delta_min_sec = (delta * 60) // 1, ((delta * 60) % 1) * 60\n",
    "print(\"sun angular diameter {0[0]:.0f}'{0[1]:.0f}\\\"\".format(delta_min_sec))"
   ]
  },
  {
   "cell_type": "markdown",
   "metadata": {},
   "source": [
    "Because the planets orbit so closely, their star is huge in their sky – between 2 to 15 times bigger than the sun in the earth's sky."
   ]
  },
  {
   "cell_type": "markdown",
   "metadata": {},
   "source": [
    "### Analysis of planet visibility\n",
    "We keep the analysis simple and assume that we can observe other planets in essentially all positions, including all conjunctions (planets and star aligned).\n",
    "\n",
    "We then only have to calculate the distances between planets as a function of time and apply our resolution criterion."
   ]
  },
  {
   "cell_type": "markdown",
   "metadata": {},
   "source": [
    "Analyze the trajectory for the planets (note: `r[:, 0]` is the star's trajectory):"
   ]
  },
  {
   "cell_type": "code",
   "execution_count": 59,
   "metadata": {
    "collapsed": false
   },
   "outputs": [],
   "source": [
    "r_planets = r[:, 1:]"
   ]
  },
  {
   "cell_type": "markdown",
   "metadata": {},
   "source": [
    "Example for the zeroth time step (where all planets are in conjunction):"
   ]
  },
  {
   "cell_type": "code",
   "execution_count": 60,
   "metadata": {
    "collapsed": false
   },
   "outputs": [],
   "source": [
    "pos = r_planets[0]"
   ]
  },
  {
   "cell_type": "markdown",
   "metadata": {},
   "source": [
    "We use `scipy.spatial.cdist()` for speed (otherwise calculate `rij` as in the integration code above)."
   ]
  },
  {
   "cell_type": "code",
   "execution_count": 61,
   "metadata": {
    "collapsed": false
   },
   "outputs": [
    {
     "name": "stdout",
     "output_type": "stream",
     "text": [
      "[[  0.        4.46252  10.93089  18.55454  27.42739  35.84119]\n",
      " [  4.46252   0.        6.46837  14.09202  22.96487  31.37867]\n",
      " [ 10.93089   6.46837   0.        7.62365  16.4965   24.9103 ]\n",
      " [ 18.55454  14.09202   7.62365   0.        8.87285  17.28665]\n",
      " [ 27.42739  22.96487  16.4965    8.87285   0.        8.4138 ]\n",
      " [ 35.84119  31.37867  24.9103   17.28665   8.4138    0.     ]]\n",
      "[[       0.           667583.48995616  1635237.86885592  2775719.67581798\n",
      "   4103079.14285847  5361765.70735413]\n",
      " [  667583.48995616        0.           967654.37889976  2108136.18586181\n",
      "   3435495.65290231  4694182.21739797]\n",
      " [ 1635237.86885592   967654.37889976        0.          1140481.80696205\n",
      "   2467841.27400255  3726527.83849821]\n",
      " [ 2775719.67581798  2108136.18586181  1140481.80696205        0.\n",
      "   1327359.46704049  2586046.03153615]\n",
      " [ 4103079.14285847  3435495.65290231  2467841.27400255  1327359.46704049\n",
      "         0.          1258686.56449566]\n",
      " [ 5361765.70735413  4694182.21739797  3726527.83849821  2586046.03153615\n",
      "   1258686.56449566        0.        ]]\n"
     ]
    },
    {
     "data": {
      "text/plain": [
       "array([[    0.        ,   194.19216553,   475.67141441,   807.42412426,\n",
       "         1193.53734188,  1559.6744219 ],\n",
       "       [  194.19216553,     0.        ,   281.47924889,   613.23195873,\n",
       "          999.34517635,  1365.48225637],\n",
       "       [  475.67141441,   281.47924889,     0.        ,   331.75270984,\n",
       "          717.86592747,  1084.00300748],\n",
       "       [  807.42412426,   613.23195873,   331.75270984,     0.        ,\n",
       "          386.11321762,   752.25029764],\n",
       "       [ 1193.53734188,   999.34517635,   717.86592747,   386.11321762,\n",
       "            0.        ,   366.13708002],\n",
       "       [ 1559.6744219 ,  1365.48225637,  1084.00300748,   752.25029764,\n",
       "          366.13708002,     0.        ]])"
      ]
     },
     "execution_count": 61,
     "metadata": {},
     "output_type": "execute_result"
    }
   ],
   "source": [
    "dm = scipy.spatial.distance.cdist(pos, pos)\n",
    "dm_km = au2km(dm * 1e-3)\n",
    "print(dm)\n",
    "print(dm_km)\n",
    "y_resolved(dm_km)"
   ]
  },
  {
   "cell_type": "markdown",
   "metadata": {},
   "source": [
    "Instead of finding all resolved distances, we will determine a cutoff distance and then just count how many planets are inside the cutoff distance.\n",
    "\n",
    "$$\n",
    "d(y) ≤ \\frac{y}{\\theta_\\text{eye}}\n",
    "$$\n",
    "\n"
   ]
  },
  {
   "cell_type": "code",
   "execution_count": 62,
   "metadata": {
    "collapsed": true
   },
   "outputs": [],
   "source": [
    "def dmin(y, theta=theta_eye):\n",
    "    return y/theta"
   ]
  },
  {
   "cell_type": "code",
   "execution_count": 63,
   "metadata": {
    "collapsed": false
   },
   "outputs": [
    {
     "data": {
      "text/plain": [
       "687549.35415698786"
      ]
     },
     "execution_count": 63,
     "metadata": {},
     "output_type": "execute_result"
    }
   ],
   "source": [
    "dmin(200)"
   ]
  },
  {
   "cell_type": "code",
   "execution_count": 104,
   "metadata": {
    "collapsed": false
   },
   "outputs": [
    {
     "data": {
      "text/plain": [
       "array([3, 3, 4, 3, 3, 2])"
      ]
     },
     "execution_count": 104,
     "metadata": {},
     "output_type": "execute_result"
    }
   ],
   "source": [
    "np.sum(dm_km < dmin(500), axis=1)"
   ]
  },
  {
   "cell_type": "markdown",
   "metadata": {},
   "source": [
    "#### Full analysis\n",
    "Loop over all frames of the trajectory and calculate the number of visible planets for each planet."
   ]
  },
  {
   "cell_type": "code",
   "execution_count": 105,
   "metadata": {
    "collapsed": false
   },
   "outputs": [],
   "source": [
    "def analyze_visible_planets(r_planets, ymin=500):\n",
    "    cutoff = dmin(ymin)\n",
    "    timeseries = np.zeros(r_planets.shape[:2])\n",
    "    for i, pos in enumerate(r_planets):\n",
    "        pos = pos * 1e-3  # in au\n",
    "        dm = au2km(scipy.spatial.distance.cdist(pos, pos)) # in km\n",
    "        timeseries[i, :] = np.sum(np.logical_and(dm > 1.0, dm < cutoff), axis=1)\n",
    "    return timeseries"
   ]
  },
  {
   "cell_type": "code",
   "execution_count": 106,
   "metadata": {
    "collapsed": false
   },
   "outputs": [],
   "source": [
    "y_min = 1000 # km\n",
    "counts = analyze_visible_planets(r_planets, ymin=y_min)"
   ]
  },
  {
   "cell_type": "code",
   "execution_count": 107,
   "metadata": {
    "collapsed": false
   },
   "outputs": [
    {
     "data": {
      "text/plain": [
       "(100000, 6)"
      ]
     },
     "execution_count": 107,
     "metadata": {},
     "output_type": "execute_result"
    }
   ],
   "source": [
    "counts.shape"
   ]
  },
  {
   "cell_type": "code",
   "execution_count": 108,
   "metadata": {
    "collapsed": false
   },
   "outputs": [
    {
     "data": {
      "text/plain": [
       "<matplotlib.text.Text at 0x12581a8d0>"
      ]
     },
     "execution_count": 108,
     "metadata": {},
     "output_type": "execute_result"
    },
    {
     "data": {
      "image/png": "[encoded data removed]",
      "text/plain": [
       "<matplotlib.figure.Figure at 0x125864668>"
      ]
     },
     "metadata": {},
     "output_type": "display_data"
    }
   ],
   "source": [
    "plt.plot(time, counts[:, 3])\n",
    "plt.xlabel(\"time (days)\")\n",
    "plt.ylabel(r\"number of visible planets $d ≤ d_\\mathrm{min}$\")"
   ]
  },
  {
   "cell_type": "code",
   "execution_count": 117,
   "metadata": {
    "collapsed": false
   },
   "outputs": [
    {
     "data": {
      "image/png": "[encoded data removed]",
      "text/plain": [
       "<matplotlib.figure.Figure at 0x1261a9d68>"
      ]
     },
     "metadata": {},
     "output_type": "display_data"
    }
   ],
   "source": [
    "plt.hist(counts, bins=[-0.5, 0.5, 1.5, 2.5, 3.5, 4.5, 5.5], normed=True, label=planets['name'].tolist())\n",
    "plt.legend(loc=\"best\")\n",
    "plt.xlabel(\"number of other planets in range $d ≤ d_\\mathrm{min}$\")\n",
    "plt.ylabel(\"probability\")\n",
    "plt.title(\"Features of size $y ≥ {}$ km are visible\".format(y_min))\n",
    "plt.xlim(-0.5, 5.5);"
   ]
  },
  {
   "cell_type": "markdown",
   "metadata": {},
   "source": [
    "In general, the inner planets (b, c, d) provide more opportunities to see other planets up close. However TRAPPIST-1e is the planet where it is most likely to see *four* other planets up close and it still has the second highest probability of any planet to have a close up view on *three* planets.\n",
    "\n",
    "Thus, the poster advertising TRAPPIST-1e speaks the truth."
   ]
  },
  {
   "cell_type": "code",
   "execution_count": null,
   "metadata": {
    "collapsed": true
   },
   "outputs": [],
   "source": []
  }
 ],
 "metadata": {
  "anaconda-cloud": {},
  "kernelspec": {
   "display_name": "Python [conda root]",
   "language": "python",
   "name": "conda-root-py"
  },
  "language_info": {
   "codemirror_mode": {
    "name": "ipython",
    "version": 3
   },
   "file_extension": ".py",
   "mimetype": "text/x-python",
   "name": "python",
   "nbconvert_exporter": "python",
   "pygments_lexer": "ipython3",
   "version": "3.5.2"
  }
 },
 "nbformat": 4,
 "nbformat_minor": 1
}
