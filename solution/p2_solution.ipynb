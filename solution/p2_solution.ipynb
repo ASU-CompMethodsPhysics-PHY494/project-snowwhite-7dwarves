{
 "cells": [
  {
   "cell_type": "code",
   "execution_count": null,
   "metadata": {
    "collapsed": true
   },
   "outputs": [],
   "source": [
    "# Project 2: Planets around TRAPPIST-1 "
   ]
  },
  {
   "cell_type": "markdown",
   "metadata": {},
   "source": [
    "## Goal and Objectives\n",
    "\n",
    "Simulate the movements of planets near the star TRAPPIST-1\n",
    "\n",
    "1. Simulate movement of the 7 closest planets for 10 earth years\n",
    "2. From which planets can an observer see the most other planets in the night sky?\n"
   ]
  },
  {
   "cell_type": "markdown",
   "metadata": {},
   "source": [
    "## Data "
   ]
  },
  {
   "cell_type": "markdown",
   "metadata": {},
   "source": [
    "Use pandas during development. Replace with something simpler for project."
   ]
  },
  {
   "cell_type": "code",
   "execution_count": 1,
   "metadata": {
    "collapsed": true
   },
   "outputs": [],
   "source": [
    "import pandas as pd"
   ]
  },
  {
   "cell_type": "code",
   "execution_count": 2,
   "metadata": {
    "collapsed": false
   },
   "outputs": [],
   "source": [
    "system = pd.read_hdf(\"../data/trappist_bodies.hdf5\", \"LOCAL_UNITS\")\n",
    "system.sort_values('name', inplace=True)"
   ]
  },
  {
   "cell_type": "code",
   "execution_count": 3,
   "metadata": {
    "collapsed": false
   },
   "outputs": [
    {
     "data": {
      "text/html": [
       "<div>\n",
       "<table border=\"1\" class=\"dataframe\">\n",
       "  <thead>\n",
       "    <tr style=\"text-align: right;\">\n",
       "      <th></th>\n",
       "      <th>name</th>\n",
       "      <th>mass</th>\n",
       "      <th>period</th>\n",
       "      <th>radius</th>\n",
       "      <th>semi-major</th>\n",
       "      <th>eccentricity</th>\n",
       "    </tr>\n",
       "  </thead>\n",
       "  <tbody>\n",
       "    <tr>\n",
       "      <th>4</th>\n",
       "      <td>b</td>\n",
       "      <td>0.000032</td>\n",
       "      <td>1.510871</td>\n",
       "      <td>1.086</td>\n",
       "      <td>11.11</td>\n",
       "      <td>0.081</td>\n",
       "    </tr>\n",
       "    <tr>\n",
       "      <th>2</th>\n",
       "      <td>c</td>\n",
       "      <td>0.000052</td>\n",
       "      <td>2.421823</td>\n",
       "      <td>1.056</td>\n",
       "      <td>15.21</td>\n",
       "      <td>0.083</td>\n",
       "    </tr>\n",
       "    <tr>\n",
       "      <th>0</th>\n",
       "      <td>d</td>\n",
       "      <td>0.000015</td>\n",
       "      <td>4.049610</td>\n",
       "      <td>0.772</td>\n",
       "      <td>21.44</td>\n",
       "      <td>0.070</td>\n",
       "    </tr>\n",
       "    <tr>\n",
       "      <th>5</th>\n",
       "      <td>e</td>\n",
       "      <td>0.000023</td>\n",
       "      <td>6.099615</td>\n",
       "      <td>0.918</td>\n",
       "      <td>28.17</td>\n",
       "      <td>0.085</td>\n",
       "    </tr>\n",
       "    <tr>\n",
       "      <th>1</th>\n",
       "      <td>f</td>\n",
       "      <td>0.000025</td>\n",
       "      <td>9.206690</td>\n",
       "      <td>1.045</td>\n",
       "      <td>37.10</td>\n",
       "      <td>0.063</td>\n",
       "    </tr>\n",
       "    <tr>\n",
       "      <th>3</th>\n",
       "      <td>g</td>\n",
       "      <td>0.000050</td>\n",
       "      <td>12.352940</td>\n",
       "      <td>1.127</td>\n",
       "      <td>45.10</td>\n",
       "      <td>0.061</td>\n",
       "    </tr>\n",
       "    <tr>\n",
       "      <th>6</th>\n",
       "      <td>h</td>\n",
       "      <td>NaN</td>\n",
       "      <td>20.000000</td>\n",
       "      <td>0.755</td>\n",
       "      <td>63.00</td>\n",
       "      <td>NaN</td>\n",
       "    </tr>\n",
       "    <tr>\n",
       "      <th>7</th>\n",
       "      <td>star</td>\n",
       "      <td>1.000000</td>\n",
       "      <td>NaN</td>\n",
       "      <td>0.117</td>\n",
       "      <td>NaN</td>\n",
       "      <td>NaN</td>\n",
       "    </tr>\n",
       "  </tbody>\n",
       "</table>\n",
       "</div>"
      ],
      "text/plain": [
       "   name      mass     period  radius  semi-major  eccentricity\n",
       "4     b  0.000032   1.510871   1.086       11.11         0.081\n",
       "2     c  0.000052   2.421823   1.056       15.21         0.083\n",
       "0     d  0.000015   4.049610   0.772       21.44         0.070\n",
       "5     e  0.000023   6.099615   0.918       28.17         0.085\n",
       "1     f  0.000025   9.206690   1.045       37.10         0.063\n",
       "3     g  0.000050  12.352940   1.127       45.10         0.061\n",
       "6     h       NaN  20.000000   0.755       63.00           NaN\n",
       "7  star  1.000000        NaN   0.117         NaN           NaN"
      ]
     },
     "execution_count": 3,
     "metadata": {},
     "output_type": "execute_result"
    }
   ],
   "source": [
    "system"
   ]
  },
  {
   "cell_type": "code",
   "execution_count": 4,
   "metadata": {
    "collapsed": false
   },
   "outputs": [],
   "source": [
    "planets = system[system['name'] != \"star\"]\n",
    "planets = planets.dropna()\n",
    "star = system[system['name'] == \"star\"]\n",
    "M_star = star['mass'].iloc[0]  \n",
    "\n",
    "assert M_star == 1.0"
   ]
  },
  {
   "cell_type": "code",
   "execution_count": 5,
   "metadata": {
    "collapsed": false
   },
   "outputs": [
    {
     "name": "stdout",
     "output_type": "stream",
     "text": [
      "0.0802\n"
     ]
    }
   ],
   "source": [
    "system_AU = pd.read_hdf(\"../data/trappist_bodies.hdf5\", \"SOLAR_UNITS\")\n",
    "M_star_in_solar_mass = system_AU[system_AU['name'] == \"star\"]['mass'].item()\n",
    "print(M_star_in_solar_mass)"
   ]
  },
  {
   "cell_type": "code",
   "execution_count": 6,
   "metadata": {
    "collapsed": false
   },
   "outputs": [
    {
     "data": {
      "text/html": [
       "<div>\n",
       "<table border=\"1\" class=\"dataframe\">\n",
       "  <thead>\n",
       "    <tr style=\"text-align: right;\">\n",
       "      <th></th>\n",
       "      <th>name</th>\n",
       "      <th>mass</th>\n",
       "      <th>period</th>\n",
       "      <th>radius</th>\n",
       "      <th>semi-major</th>\n",
       "      <th>eccentricity</th>\n",
       "    </tr>\n",
       "  </thead>\n",
       "  <tbody>\n",
       "    <tr>\n",
       "      <th>4</th>\n",
       "      <td>b</td>\n",
       "      <td>0.000032</td>\n",
       "      <td>1.510871</td>\n",
       "      <td>1.086</td>\n",
       "      <td>11.11</td>\n",
       "      <td>0.081</td>\n",
       "    </tr>\n",
       "    <tr>\n",
       "      <th>2</th>\n",
       "      <td>c</td>\n",
       "      <td>0.000052</td>\n",
       "      <td>2.421823</td>\n",
       "      <td>1.056</td>\n",
       "      <td>15.21</td>\n",
       "      <td>0.083</td>\n",
       "    </tr>\n",
       "    <tr>\n",
       "      <th>0</th>\n",
       "      <td>d</td>\n",
       "      <td>0.000015</td>\n",
       "      <td>4.049610</td>\n",
       "      <td>0.772</td>\n",
       "      <td>21.44</td>\n",
       "      <td>0.070</td>\n",
       "    </tr>\n",
       "    <tr>\n",
       "      <th>5</th>\n",
       "      <td>e</td>\n",
       "      <td>0.000023</td>\n",
       "      <td>6.099615</td>\n",
       "      <td>0.918</td>\n",
       "      <td>28.17</td>\n",
       "      <td>0.085</td>\n",
       "    </tr>\n",
       "    <tr>\n",
       "      <th>1</th>\n",
       "      <td>f</td>\n",
       "      <td>0.000025</td>\n",
       "      <td>9.206690</td>\n",
       "      <td>1.045</td>\n",
       "      <td>37.10</td>\n",
       "      <td>0.063</td>\n",
       "    </tr>\n",
       "    <tr>\n",
       "      <th>3</th>\n",
       "      <td>g</td>\n",
       "      <td>0.000050</td>\n",
       "      <td>12.352940</td>\n",
       "      <td>1.127</td>\n",
       "      <td>45.10</td>\n",
       "      <td>0.061</td>\n",
       "    </tr>\n",
       "  </tbody>\n",
       "</table>\n",
       "</div>"
      ],
      "text/plain": [
       "  name      mass     period  radius  semi-major  eccentricity\n",
       "4    b  0.000032   1.510871   1.086       11.11         0.081\n",
       "2    c  0.000052   2.421823   1.056       15.21         0.083\n",
       "0    d  0.000015   4.049610   0.772       21.44         0.070\n",
       "5    e  0.000023   6.099615   0.918       28.17         0.085\n",
       "1    f  0.000025   9.206690   1.045       37.10         0.063\n",
       "3    g  0.000050  12.352940   1.127       45.10         0.061"
      ]
     },
     "execution_count": 6,
     "metadata": {},
     "output_type": "execute_result"
    }
   ],
   "source": [
    "planets"
   ]
  },
  {
   "cell_type": "markdown",
   "metadata": {},
   "source": [
    "## Kepler orbits\n",
    "See Wang Ch 4.2.3\n",
    "\n",
    "Orbits with sun at one focus (origin). $r_\\text{max}$ is the distance of the sun to the aphelion (farthest) point of orbit; $r_\\text{min}$ to perihelion. $a$ is the semi-major axis.\n",
    "\n",
    "$$\n",
    "r_\\text{max} = a(1+e)\\\\\n",
    "r_\\text{min} = a(1-e)\n",
    "$$\n",
    "\n",
    "The velocity at the aphelion is\n",
    "\n",
    "$$\n",
    "v_\\text{ap} = \\sqrt{\\frac{k}{ma} \\frac{1-e}{1+e}} = \\sqrt{\\frac{GM}{a} \\frac{1-e}{1+e}}\n",
    "$$\n",
    "\n",
    "with\n",
    "\n",
    "$$\n",
    "k = GmM\n",
    "$$\n"
   ]
  },
  {
   "cell_type": "code",
   "execution_count": 7,
   "metadata": {
    "collapsed": true
   },
   "outputs": [],
   "source": [
    "import numpy as np\n",
    "import matplotlib\n",
    "import matplotlib.pyplot as plt\n",
    "%matplotlib inline\n",
    "matplotlib.style.use('ggplot')\n",
    "\n",
    "# in AU (solar system) units\n",
    "#G = 4*np.pi**2\n",
    "\n",
    "# length = 1e-3 AU, time = d, M = M_star\n",
    "G = 4*np.pi**2 * (1e3)**3 / (365.25)**2 * M_star_in_solar_mass"
   ]
  },
  {
   "cell_type": "code",
   "execution_count": 8,
   "metadata": {
    "collapsed": true
   },
   "outputs": [],
   "source": [
    "def rmax(a, e):\n",
    "    return a*(1+e)\n",
    "\n",
    "def v_aphelion(a, e, M):\n",
    "    return np.sqrt(G*M*(1-e)/(a*(1+e)))"
   ]
  },
  {
   "cell_type": "code",
   "execution_count": 9,
   "metadata": {
    "collapsed": false
   },
   "outputs": [],
   "source": [
    "planets_x = rmax(planets['semi-major'], planets['eccentricity'])\n",
    "planets_vy = v_aphelion(planets['semi-major'], planets['eccentricity'], M=M_star)"
   ]
  },
  {
   "cell_type": "code",
   "execution_count": 10,
   "metadata": {
    "collapsed": false
   },
   "outputs": [],
   "source": [
    "def F_gravity(r, m, M=1.0):\n",
    "    rr = np.sum(r*r)\n",
    "    rhat = r/np.sqrt(rr)\n",
    "    return -G*m*M/rr * rhat\n",
    "\n",
    "def U_gravity(r, m, M=1.0):\n",
    "    return -G*m*M/np.sqrt(np.sum(r*r))"
   ]
  },
  {
   "cell_type": "code",
   "execution_count": 11,
   "metadata": {
    "collapsed": true
   },
   "outputs": [],
   "source": [
    "def planet_orbit(r0, v0, mass, M_star=M_star, dt=0.001, t_max=1):\n",
    "    \"\"\"2D planetary motion with velocity verlet\"\"\"\n",
    "    dim = len(r0)\n",
    "    assert len(v0) == dim\n",
    "\n",
    "    nsteps = int(t_max/dt)\n",
    "\n",
    "    r = np.zeros((nsteps, dim))\n",
    "    v = np.zeros_like(r)\n",
    "\n",
    "    r[0, :] = r0\n",
    "    v[0, :] = v0\n",
    "\n",
    "    # start force evaluation for first step\n",
    "    Ft = F_gravity(r[0], m=mass, M=M_star)\n",
    "    for i in range(nsteps-1):\n",
    "        vhalf = v[i] + 0.5*dt * Ft/mass\n",
    "        r[i+1, :] = r[i] + dt * vhalf\n",
    "        Ftdt = F_gravity(r[i+1], m=mass, M=M_star)\n",
    "        v[i+1] = vhalf + 0.5*dt * Ftdt/mass\n",
    "        # new force becomes old force\n",
    "        Ft = Ftdt\n",
    "    \n",
    "    return r, v"
   ]
  },
  {
   "cell_type": "markdown",
   "metadata": {},
   "source": [
    "Orbit of TRAPPIST-b (without any additional interactions): establish basic values for run parameters."
   ]
  },
  {
   "cell_type": "code",
   "execution_count": 12,
   "metadata": {
    "collapsed": false
   },
   "outputs": [],
   "source": [
    "idx = planets[planets['name'] == 'b'].index\n",
    "r0 = np.array([planets_x[idx].item(), 0])\n",
    "v0 = np.array([0, planets_vy[idx].item()])\n",
    "mass = planets['mass'][idx].item()"
   ]
  },
  {
   "cell_type": "code",
   "execution_count": 13,
   "metadata": {
    "collapsed": false
   },
   "outputs": [],
   "source": [
    "r, v = planet_orbit(r0, v0, mass=mass, M_star=M_star, t_max=1.5, dt=0.01)"
   ]
  },
  {
   "cell_type": "code",
   "execution_count": 14,
   "metadata": {
    "collapsed": false
   },
   "outputs": [
    {
     "data": {
      "text/plain": [
       "[<matplotlib.lines.Line2D at 0x116447fd0>]"
      ]
     },
     "execution_count": 14,
     "metadata": {},
     "output_type": "execute_result"
    },
    {
     "data": {
      "image/png": "[encoded data removed]",
      "text/plain": [
       "<matplotlib.figure.Figure at 0x1132c8400>"
      ]
     },
     "metadata": {},
     "output_type": "display_data"
    }
   ],
   "source": [
    "rx, ry = r.T\n",
    "ax = plt.subplot(1,1,1)\n",
    "ax.set_aspect(1)\n",
    "ax.plot(rx, ry)\n",
    "ax.plot([0], [0], 'o', color=\"orange\")"
   ]
  },
  {
   "cell_type": "markdown",
   "metadata": {},
   "source": [
    "Looks ok."
   ]
  },
  {
   "cell_type": "code",
   "execution_count": 15,
   "metadata": {
    "collapsed": false
   },
   "outputs": [
    {
     "data": {
      "text/html": [
       "<div>\n",
       "<table border=\"1\" class=\"dataframe\">\n",
       "  <thead>\n",
       "    <tr style=\"text-align: right;\">\n",
       "      <th></th>\n",
       "      <th>name</th>\n",
       "      <th>mass</th>\n",
       "      <th>period</th>\n",
       "      <th>radius</th>\n",
       "      <th>semi-major</th>\n",
       "      <th>eccentricity</th>\n",
       "    </tr>\n",
       "  </thead>\n",
       "  <tbody>\n",
       "    <tr>\n",
       "      <th>4</th>\n",
       "      <td>b</td>\n",
       "      <td>0.000032</td>\n",
       "      <td>1.510871</td>\n",
       "      <td>1.086</td>\n",
       "      <td>11.11</td>\n",
       "      <td>0.081</td>\n",
       "    </tr>\n",
       "    <tr>\n",
       "      <th>2</th>\n",
       "      <td>c</td>\n",
       "      <td>0.000052</td>\n",
       "      <td>2.421823</td>\n",
       "      <td>1.056</td>\n",
       "      <td>15.21</td>\n",
       "      <td>0.083</td>\n",
       "    </tr>\n",
       "    <tr>\n",
       "      <th>0</th>\n",
       "      <td>d</td>\n",
       "      <td>0.000015</td>\n",
       "      <td>4.049610</td>\n",
       "      <td>0.772</td>\n",
       "      <td>21.44</td>\n",
       "      <td>0.070</td>\n",
       "    </tr>\n",
       "    <tr>\n",
       "      <th>5</th>\n",
       "      <td>e</td>\n",
       "      <td>0.000023</td>\n",
       "      <td>6.099615</td>\n",
       "      <td>0.918</td>\n",
       "      <td>28.17</td>\n",
       "      <td>0.085</td>\n",
       "    </tr>\n",
       "    <tr>\n",
       "      <th>1</th>\n",
       "      <td>f</td>\n",
       "      <td>0.000025</td>\n",
       "      <td>9.206690</td>\n",
       "      <td>1.045</td>\n",
       "      <td>37.10</td>\n",
       "      <td>0.063</td>\n",
       "    </tr>\n",
       "    <tr>\n",
       "      <th>3</th>\n",
       "      <td>g</td>\n",
       "      <td>0.000050</td>\n",
       "      <td>12.352940</td>\n",
       "      <td>1.127</td>\n",
       "      <td>45.10</td>\n",
       "      <td>0.061</td>\n",
       "    </tr>\n",
       "  </tbody>\n",
       "</table>\n",
       "</div>"
      ],
      "text/plain": [
       "  name      mass     period  radius  semi-major  eccentricity\n",
       "4    b  0.000032   1.510871   1.086       11.11         0.081\n",
       "2    c  0.000052   2.421823   1.056       15.21         0.083\n",
       "0    d  0.000015   4.049610   0.772       21.44         0.070\n",
       "5    e  0.000023   6.099615   0.918       28.17         0.085\n",
       "1    f  0.000025   9.206690   1.045       37.10         0.063\n",
       "3    g  0.000050  12.352940   1.127       45.10         0.061"
      ]
     },
     "execution_count": 15,
     "metadata": {},
     "output_type": "execute_result"
    }
   ],
   "source": [
    "planets"
   ]
  },
  {
   "cell_type": "markdown",
   "metadata": {},
   "source": [
    "## Many body system "
   ]
  },
  {
   "cell_type": "code",
   "execution_count": 16,
   "metadata": {
    "collapsed": true
   },
   "outputs": [],
   "source": [
    "def orbits(r0, v0, masses, M_star=M_star, dt=0.001, t_max=1):\n",
    "    \"\"\"2D planetary motion with velocity verlet for multiple planets\"\"\"\n",
    "    N_planets = len(masses)\n",
    "    assert r0.shape[0] == N_planets\n",
    "    dim = r0.shape[1]\n",
    "    assert np.all(v0.shape == r0.shape)\n",
    "\n",
    "    nsteps = int(t_max/dt)\n",
    "\n",
    "    r = np.zeros((nsteps, N_planets, dim))\n",
    "    v = np.zeros_like(r)\n",
    "\n",
    "    r[0, :, :] = r0\n",
    "    v[0, :, :] = v0\n",
    "\n",
    "    # start force evaluation for first step\n",
    "    Ft = forces(r[0], masses, M_star)\n",
    "    for i in range(nsteps-1):\n",
    "        vhalf = v[i] + 0.5*dt * Ft/masses[:, np.newaxis]\n",
    "        r[i+1, :] = r[i] + dt * vhalf\n",
    "        Ftdt = forces(r[i+1], masses, M_star)\n",
    "        v[i+1] = vhalf + 0.5*dt * Ftdt/masses[:, np.newaxis]\n",
    "        # new force becomes old force\n",
    "        Ft = Ftdt\n",
    "    return r, v\n",
    "\n",
    "def forces(r, masses, M):\n",
    "    F = np.zeros_like(r)\n",
    "    for i, m in enumerate(masses):\n",
    "        # planet - star\n",
    "        F[i, :] = F_gravity(r[i], m=m, M=M)\n",
    "        for j in range(i+1, len(masses)):\n",
    "            # force of planet j on i\n",
    "            rij = r[j] - r[i]\n",
    "            Fij = F_gravity(rij, m=m, M=masses[j])\n",
    "            F[i] += Fij\n",
    "            # Newton's 3rd law:\n",
    "            Fji = -Fij\n",
    "            F[j] += Fji\n",
    "    return F\n",
    "            "
   ]
  },
  {
   "cell_type": "code",
   "execution_count": 17,
   "metadata": {
    "collapsed": true
   },
   "outputs": [],
   "source": [
    "r0 = np.array([planets_x, np.zeros_like(planets_x)]).T\n",
    "v0 = np.array([np.zeros_like(planets_vy), planets_vy]).T\n",
    "masses = planets['mass'].values"
   ]
  },
  {
   "cell_type": "code",
   "execution_count": 18,
   "metadata": {
    "collapsed": false
   },
   "outputs": [
    {
     "data": {
      "text/plain": [
       "array([[-0.00523821, -0.        ],\n",
       "       [-0.00451957, -0.        ],\n",
       "       [-0.00069241, -0.        ],\n",
       "       [-0.00058996, -0.        ],\n",
       "       [-0.0003889 , -0.        ],\n",
       "       [-0.00051998, -0.        ]])"
      ]
     },
     "execution_count": 18,
     "metadata": {},
     "output_type": "execute_result"
    }
   ],
   "source": [
    "forces(r0, masses, M_star)"
   ]
  },
  {
   "cell_type": "code",
   "execution_count": 44,
   "metadata": {
    "collapsed": false
   },
   "outputs": [],
   "source": [
    "r, v = orbits(r0, v0, masses, t_max=5, dt=0.01)"
   ]
  },
  {
   "cell_type": "code",
   "execution_count": 45,
   "metadata": {
    "collapsed": false
   },
   "outputs": [
    {
     "data": {
      "text/plain": [
       "(500, 6, 2)"
      ]
     },
     "execution_count": 45,
     "metadata": {},
     "output_type": "execute_result"
    }
   ],
   "source": [
    "r.shape"
   ]
  },
  {
   "cell_type": "code",
   "execution_count": 46,
   "metadata": {
    "collapsed": false
   },
   "outputs": [],
   "source": [
    "def plot_orbits(r):\n",
    "    ax = plt.subplot(111)\n",
    "    ax.set_aspect(1)\n",
    "    for planet in range(r.shape[1]):\n",
    "        rx, ry = r[:, planet, :].T\n",
    "        ax.plot(rx, ry)\n",
    "        ax.plot(rx[-1], ry[-1], 'o', ms=4, color=\"gray\", alpha=0.5)\n",
    "    ax.plot([0], [0], 'o', ms=15, color=\"orange\")\n",
    "    return ax"
   ]
  },
  {
   "cell_type": "code",
   "execution_count": 47,
   "metadata": {
    "collapsed": false
   },
   "outputs": [
    {
     "data": {
      "text/plain": [
       "<matplotlib.axes._subplots.AxesSubplot at 0x11e78f630>"
      ]
     },
     "execution_count": 47,
     "metadata": {},
     "output_type": "execute_result"
    },
    {
     "data": {
      "image/png": "[encoded data removed]",
      "text/plain": [
       "<matplotlib.figure.Figure at 0x11e5e47b8>"
      ]
     },
     "metadata": {},
     "output_type": "display_data"
    }
   ],
   "source": [
    "plot_orbits(r)"
   ]
  },
  {
   "cell_type": "code",
   "execution_count": 52,
   "metadata": {
    "collapsed": false
   },
   "outputs": [
    {
     "data": {
      "text/plain": [
       "<matplotlib.axes._subplots.AxesSubplot at 0x12150c710>"
      ]
     },
     "execution_count": 52,
     "metadata": {},
     "output_type": "execute_result"
    },
    {
     "data": {
      "image/png": "[encoded data removed]",
      "text/plain": [
       "<matplotlib.figure.Figure at 0x1215efda0>"
      ]
     },
     "metadata": {},
     "output_type": "display_data"
    }
   ],
   "source": [
    "r, v = orbits(r0, v0, masses, t_max=1000, dt=0.01)\n",
    "plot_orbits(r)"
   ]
  },
  {
   "cell_type": "code",
   "execution_count": null,
   "metadata": {
    "collapsed": true
   },
   "outputs": [],
   "source": []
  }
 ],
 "metadata": {
  "anaconda-cloud": {},
  "kernelspec": {
   "display_name": "Python [conda root]",
   "language": "python",
   "name": "conda-root-py"
  },
  "language_info": {
   "codemirror_mode": {
    "name": "ipython",
    "version": 3
   },
   "file_extension": ".py",
   "mimetype": "text/x-python",
   "name": "python",
   "nbconvert_exporter": "python",
   "pygments_lexer": "ipython3",
   "version": "3.5.2"
  }
 },
 "nbformat": 4,
 "nbformat_minor": 1
}
