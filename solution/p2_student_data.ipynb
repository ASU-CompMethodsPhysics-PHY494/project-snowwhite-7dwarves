{
 "cells": [
  {
   "cell_type": "markdown",
   "metadata": {},
   "source": [
    "# Data for Project 2 (students) "
   ]
  },
  {
   "cell_type": "code",
   "execution_count": 26,
   "metadata": {
    "collapsed": true
   },
   "outputs": [],
   "source": [
    "import pandas as pd\n",
    "import numpy as np"
   ]
  },
  {
   "cell_type": "code",
   "execution_count": 32,
   "metadata": {
    "collapsed": true
   },
   "outputs": [],
   "source": [
    "df_system = pd.read_hdf(\"../data/trappist_bodies.hdf5\", \"LOCAL_UNITS\")"
   ]
  },
  {
   "cell_type": "code",
   "execution_count": 33,
   "metadata": {
    "collapsed": false
   },
   "outputs": [
    {
     "data": {
      "text/html": [
       "<div>\n",
       "<table border=\"1\" class=\"dataframe\">\n",
       "  <thead>\n",
       "    <tr style=\"text-align: right;\">\n",
       "      <th></th>\n",
       "      <th>name</th>\n",
       "      <th>mass</th>\n",
       "      <th>period</th>\n",
       "      <th>radius</th>\n",
       "      <th>semi-major</th>\n",
       "      <th>eccentricity</th>\n",
       "    </tr>\n",
       "  </thead>\n",
       "  <tbody>\n",
       "    <tr>\n",
       "      <th>0</th>\n",
       "      <td>b</td>\n",
       "      <td>0.000032</td>\n",
       "      <td>1.510871</td>\n",
       "      <td>1.086</td>\n",
       "      <td>11.11</td>\n",
       "      <td>0.081</td>\n",
       "    </tr>\n",
       "    <tr>\n",
       "      <th>1</th>\n",
       "      <td>c</td>\n",
       "      <td>0.000052</td>\n",
       "      <td>2.421823</td>\n",
       "      <td>1.056</td>\n",
       "      <td>15.21</td>\n",
       "      <td>0.083</td>\n",
       "    </tr>\n",
       "    <tr>\n",
       "      <th>2</th>\n",
       "      <td>d</td>\n",
       "      <td>0.000015</td>\n",
       "      <td>4.049610</td>\n",
       "      <td>0.772</td>\n",
       "      <td>21.44</td>\n",
       "      <td>0.070</td>\n",
       "    </tr>\n",
       "    <tr>\n",
       "      <th>3</th>\n",
       "      <td>e</td>\n",
       "      <td>0.000023</td>\n",
       "      <td>6.099615</td>\n",
       "      <td>0.918</td>\n",
       "      <td>28.17</td>\n",
       "      <td>0.085</td>\n",
       "    </tr>\n",
       "    <tr>\n",
       "      <th>4</th>\n",
       "      <td>f</td>\n",
       "      <td>0.000025</td>\n",
       "      <td>9.206690</td>\n",
       "      <td>1.045</td>\n",
       "      <td>37.10</td>\n",
       "      <td>0.063</td>\n",
       "    </tr>\n",
       "    <tr>\n",
       "      <th>5</th>\n",
       "      <td>g</td>\n",
       "      <td>0.000050</td>\n",
       "      <td>12.352940</td>\n",
       "      <td>1.127</td>\n",
       "      <td>45.10</td>\n",
       "      <td>0.061</td>\n",
       "    </tr>\n",
       "    <tr>\n",
       "      <th>6</th>\n",
       "      <td>h</td>\n",
       "      <td>NaN</td>\n",
       "      <td>20.000000</td>\n",
       "      <td>0.755</td>\n",
       "      <td>63.00</td>\n",
       "      <td>NaN</td>\n",
       "    </tr>\n",
       "    <tr>\n",
       "      <th>7</th>\n",
       "      <td>star</td>\n",
       "      <td>1.000000</td>\n",
       "      <td>NaN</td>\n",
       "      <td>0.117</td>\n",
       "      <td>NaN</td>\n",
       "      <td>NaN</td>\n",
       "    </tr>\n",
       "  </tbody>\n",
       "</table>\n",
       "</div>"
      ],
      "text/plain": [
       "   name      mass     period  radius  semi-major  eccentricity\n",
       "0     b  0.000032   1.510871   1.086       11.11         0.081\n",
       "1     c  0.000052   2.421823   1.056       15.21         0.083\n",
       "2     d  0.000015   4.049610   0.772       21.44         0.070\n",
       "3     e  0.000023   6.099615   0.918       28.17         0.085\n",
       "4     f  0.000025   9.206690   1.045       37.10         0.063\n",
       "5     g  0.000050  12.352940   1.127       45.10         0.061\n",
       "6     h       NaN  20.000000   0.755       63.00           NaN\n",
       "7  star  1.000000        NaN   0.117         NaN           NaN"
      ]
     },
     "execution_count": 33,
     "metadata": {},
     "output_type": "execute_result"
    }
   ],
   "source": [
    "system"
   ]
  },
  {
   "cell_type": "code",
   "execution_count": 34,
   "metadata": {
    "collapsed": true
   },
   "outputs": [],
   "source": [
    "df_planets = system[system['name'] != \"star\"]\n",
    "df_planets = df_planets.dropna()\n",
    "star = df_system[df_system['name'] == \"star\"]\n",
    "M_star = star['mass'].iloc[0]  \n",
    "\n",
    "assert M_star == 1.0"
   ]
  },
  {
   "cell_type": "code",
   "execution_count": 35,
   "metadata": {
    "collapsed": false
   },
   "outputs": [
    {
     "name": "stdout",
     "output_type": "stream",
     "text": [
      "'name': array(['b', 'c', 'd', 'e', 'f', 'g'], dtype=object),\n",
      "'mass': array([  3.18221540e-05,   5.16642030e-05,   1.53495096e-05,\n",
      "         2.32114535e-05,   2.54577232e-05,   5.01666899e-05]),\n",
      "'period': array([  1.51087081,   2.4218233 ,   4.04961   ,   6.099615  ,\n",
      "         9.20669   ,  12.35294   ]),\n",
      "'radius': array([ 1.086,  1.056,  0.772,  0.918,  1.045,  1.127]),\n",
      "'semi-major': array([ 11.11,  15.21,  21.44,  28.17,  37.1 ,  45.1 ]),\n",
      "'eccentricity': array([ 0.081,  0.083,  0.07 ,  0.085,  0.063,  0.061])\n"
     ]
    }
   ],
   "source": [
    "print(\",\\n\".join([\"'{0}': {1!r}\".format(key, x.values) for key,x in df_planets.items()]))"
   ]
  },
  {
   "cell_type": "code",
   "execution_count": 36,
   "metadata": {
    "collapsed": false
   },
   "outputs": [],
   "source": [
    "planets = {\n",
    "    'name': np.array(['b', 'c', 'd', 'e', 'f', 'g']),\n",
    "    'mass': np.array([  3.18221540e-05,   5.16642030e-05,   1.53495096e-05,\n",
    "             2.32114535e-05,   2.54577232e-05,   5.01666899e-05]),\n",
    "    'period': np.array([  1.51087081,   2.4218233 ,   4.04961   ,   6.099615  ,\n",
    "             9.20669   ,  12.35294   ]),\n",
    "    'radius': np.array([ 1.086,  1.056,  0.772,  0.918,  1.045,  1.127]),\n",
    "    'semi-major': np.array([ 11.11,  15.21,  21.44,  28.17,  37.1 ,  45.1 ]),\n",
    "    'eccentricity': np.array([ 0.081,  0.083,  0.07 ,  0.085,  0.063,  0.061])\n",
    "}"
   ]
  },
  {
   "cell_type": "code",
   "execution_count": 38,
   "metadata": {
    "collapsed": false
   },
   "outputs": [
    {
     "data": {
      "text/plain": [
       "array([  3.18221540e-05,   5.16642030e-05,   1.53495096e-05,\n",
       "         2.32114535e-05,   2.54577232e-05,   5.01666899e-05])"
      ]
     },
     "execution_count": 38,
     "metadata": {},
     "output_type": "execute_result"
    }
   ],
   "source": [
    "planets['mass']"
   ]
  },
  {
   "cell_type": "code",
   "execution_count": null,
   "metadata": {
    "collapsed": true
   },
   "outputs": [],
   "source": []
  }
 ],
 "metadata": {
  "anaconda-cloud": {},
  "kernelspec": {
   "display_name": "Python [conda root]",
   "language": "python",
   "name": "conda-root-py"
  },
  "language_info": {
   "codemirror_mode": {
    "name": "ipython",
    "version": 3
   },
   "file_extension": ".py",
   "mimetype": "text/x-python",
   "name": "python",
   "nbconvert_exporter": "python",
   "pygments_lexer": "ipython3",
   "version": "3.5.2"
  }
 },
 "nbformat": 4,
 "nbformat_minor": 1
}
